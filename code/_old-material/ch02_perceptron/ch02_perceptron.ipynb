{
 "cells": [
  {
   "cell_type": "markdown",
   "metadata": {},
   "source": [
    "*Accompanying code examples of the book \"Introduction to Artificial Neural Networks and Deep Learning: A Practical Guide with Applications in Python\" by [Sebastian Raschka](https://sebastianraschka.com). All code examples are released under the [MIT license](https://github.com/rasbt/deep-learning-book/blob/master/LICENSE). If you find this content useful, please consider supporting the work by buying a [copy of the book](https://leanpub.com/ann-and-deeplearning).*\n",
    "\n",
    "Other code examples and content are available on [GitHub](https://github.com/rasbt/deep-learning-book). The PDF and ebook versions of the book are available through [Leanpub](https://leanpub.com/ann-and-deeplearning)."
   ]
  },
  {
   "cell_type": "markdown",
   "metadata": {},
   "source": [
    "# Ch02 - The Perceptron"
   ]
  },
  {
   "cell_type": "markdown",
   "metadata": {},
   "source": [
    "## Hands-on Section"
   ]
  },
  {
   "cell_type": "markdown",
   "metadata": {},
   "source": [
    "###  Table of Contents\n",
    "* [Preparing the Dataset](#Preparing-the-Dataset)\n",
    "* [Implementing a Perceptron in NumPy](#Implementing-a-Perceptron-in-NumPy)\n",
    "* [Implementing a Perceptron in TensorFlow](#Implementing-a-Perceptron-in-TensorFlow)\n"
   ]
  },
  {
   "cell_type": "code",
   "execution_count": 1,
   "metadata": {
    "scrolled": true
   },
   "outputs": [
    {
     "name": "stdout",
     "output_type": "stream",
     "text": [
      "Sebastian Raschka 2017-03-31 \n",
      "\n",
      "tensorflow 1.0.1\n",
      "numpy 1.12.1\n",
      "matplotlib 2.0.0\n"
     ]
    }
   ],
   "source": [
    "%load_ext watermark\n",
    "%watermark -a 'Sebastian Raschka' -d -p tensorflow,numpy,matplotlib"
   ]
  },
  {
   "cell_type": "code",
   "execution_count": 2,
   "metadata": {
    "collapsed": true
   },
   "outputs": [],
   "source": [
    "%matplotlib inline"
   ]
  },
  {
   "cell_type": "code",
   "execution_count": 3,
   "metadata": {},
   "outputs": [],
   "source": [
    "import tensorflow as tf\n",
    "import numpy as np\n",
    "import os\n",
    "import matplotlib.pyplot as plt"
   ]
  },
  {
   "cell_type": "markdown",
   "metadata": {},
   "source": [
    "## Preparing the Dataset"
   ]
  },
  {
   "cell_type": "markdown",
   "metadata": {},
   "source": [
    "- Load dataset from tab-seperated text file\n",
    "- Dataset contains three columns: feature 1, feature 2, and class labels\n",
    "- Dataset contains 100 entries sorted by class labels, 50 examples from each class"
   ]
  },
  {
   "cell_type": "code",
   "execution_count": 4,
   "metadata": {},
   "outputs": [
    {
     "name": "stdout",
     "output_type": "stream",
     "text": [
      "Class label counts: [50 50]\n"
     ]
    },
    {
     "data": {
      "image/png": "[encoded data removed]",
      "text/plain": [
       "<matplotlib.figure.Figure at 0x10486d2e8>"
      ]
     },
     "metadata": {},
     "output_type": "display_data"
    }
   ],
   "source": [
    "data = np.genfromtxt('perceptron_toydata.txt', delimiter='\\t')\n",
    "X, y = data[:, :2], data[:, 2]\n",
    "y = y.astype(np.int)\n",
    "\n",
    "print('Class label counts:', np.bincount(y))\n",
    "\n",
    "plt.scatter(X[y==0, 0], X[y==0, 1], label='class 0', marker='o')\n",
    "plt.scatter(X[y==1, 0], X[y==1, 1], label='class 1', marker='s')\n",
    "plt.xlabel('feature 1')\n",
    "plt.ylabel('feature 2')\n",
    "plt.legend()\n",
    "plt.show()"
   ]
  },
  {
   "cell_type": "markdown",
   "metadata": {},
   "source": [
    "- Shuffle dataset\n",
    "- Split dataset into 70% training and 30% test data\n",
    "- Seed random number generator for reproducibility"
   ]
  },
  {
   "cell_type": "code",
   "execution_count": 5,
   "metadata": {},
   "outputs": [],
   "source": [
    "shuffle_idx = np.arange(y.shape[0])\n",
    "shuffle_rng = np.random.RandomState(123)\n",
    "shuffle_rng.shuffle(shuffle_idx)\n",
    "X, y = X[shuffle_idx], y[shuffle_idx]\n",
    "\n",
    "X_train, X_test = X[shuffle_idx[:70]], X[shuffle_idx[70:]]\n",
    "y_train, y_test = y[shuffle_idx[:70]], y[shuffle_idx[70:]]"
   ]
  },
  {
   "cell_type": "markdown",
   "metadata": {},
   "source": [
    "- Standardize training and test datasets (mean zero, unit variance)"
   ]
  },
  {
   "cell_type": "code",
   "execution_count": 6,
   "metadata": {
    "collapsed": true
   },
   "outputs": [],
   "source": [
    "mu, sigma = X_train.mean(axis=0), X_train.std(axis=0)\n",
    "X_train = (X_train - mu) / sigma\n",
    "X_test = (X_test - mu) / sigma"
   ]
  },
  {
   "cell_type": "markdown",
   "metadata": {},
   "source": [
    "- Check dataset (here: training dataset) after preprocessing steps"
   ]
  },
  {
   "cell_type": "code",
   "execution_count": 7,
   "metadata": {},
   "outputs": [
    {
     "data": {
      "image/png": "[encoded data removed]",
      "text/plain": [
       "<matplotlib.figure.Figure at 0x10db68940>"
      ]
     },
     "metadata": {},
     "output_type": "display_data"
    }
   ],
   "source": [
    "plt.scatter(X_train[y_train==0, 0], X_train[y_train==0, 1], label='class 0', marker='o')\n",
    "plt.scatter(X_train[y_train==1, 0], X_train[y_train==1, 1], label='class 1', marker='s')\n",
    "plt.xlabel('feature 1')\n",
    "plt.ylabel('feature 2')\n",
    "plt.legend()\n",
    "plt.show()"
   ]
  },
  {
   "cell_type": "markdown",
   "metadata": {},
   "source": [
    "## Implementing a Perceptron in NumPy"
   ]
  },
  {
   "cell_type": "markdown",
   "metadata": {},
   "source": [
    "- Implement function for perceptron training in NumPy"
   ]
  },
  {
   "cell_type": "code",
   "execution_count": 8,
   "metadata": {
    "collapsed": true
   },
   "outputs": [],
   "source": [
    "def perceptron_train(features, targets, mparams=None,\n",
    "                     zero_weights=True, learning_rate=1., seed=None):\n",
    "    \"\"\"Perceptron training function for binary class labels\n",
    "\n",
    "    Parameters\n",
    "    ----------\n",
    "    features : numpy.ndarray, shape=(n_samples, m_features)\n",
    "        A 2D NumPy array containing the training examples\n",
    "\n",
    "    targets : numpy.ndarray, shape=(n_samples,)\n",
    "        A 1D NumPy array containing the true class labels\n",
    "\n",
    "    mparams : dict or None (default: None)\n",
    "        A dictionary containing the model parameters, for instance\n",
    "        as returned by this function. If None, a new model parameter\n",
    "        dictionary is initialized. Note that the values in mparams\n",
    "        are updated inplace if a mparams dict is provided.\n",
    "\n",
    "    zero_weights : bool (default: True)\n",
    "        Initializes weights to all zeros, otherwise model weights are\n",
    "        initialized to small random number from a normal distribution\n",
    "        with mean zero and standard deviation 0.1.\n",
    "\n",
    "    learning_rate : float (default: 1.0)\n",
    "        A learning rate for the parameter updates. Note that a learning\n",
    "        rate has no effect on the direction of the decision boundary\n",
    "        if if the model weights are initialized to all zeros.\n",
    "\n",
    "    seed : int or None (default: None)\n",
    "        Seed for the pseudo-random number generator that initializes the\n",
    "        weights if zero_weights=False\n",
    "\n",
    "    Returns\n",
    "    -------\n",
    "    mparams : dict\n",
    "        The model parameters after training the perceptron for one epoch.\n",
    "        The mparams dictionary has the form:\n",
    "        {'weights': np.array([weight_1, weight_2, ... , weight_m]),\n",
    "         'bias': np.array([bias])}\n",
    "\n",
    "    \"\"\"\n",
    "    # initialize model parameters\n",
    "    if mparams is None:\n",
    "        mparams = {'bias': np.zeros(1)}\n",
    "        if zero_weights:\n",
    "            mparams['weights'] = np.zeros(features.shape[1])\n",
    "        else:\n",
    "            rng = np.random.RandomState(seed)\n",
    "            mparams['weights'] = rng.normal(loc=0.0, scale=0.1,\n",
    "                                           size=(features.shape[1]))\n",
    "\n",
    "    # train one epoch\n",
    "    for training_example, true_label in zip(features, targets):\n",
    "        linear = np.dot(training_example, mparams['weights']) + mparams['bias']\n",
    "\n",
    "        # if class 1 was predicted but true label is 0\n",
    "        if linear > 0. and not true_label:\n",
    "            mparams['weights'] -= learning_rate * training_example\n",
    "            mparams['bias'] -= learning_rate * 1.\n",
    "\n",
    "        # if class 0 was predicted but true label is 1\n",
    "        elif linear <= 0. and true_label:\n",
    "            mparams['weights'] += learning_rate * training_example\n",
    "            mparams['bias'] += learning_rate * 1.\n",
    "\n",
    "    return mparams"
   ]
  },
  {
   "cell_type": "markdown",
   "metadata": {},
   "source": [
    "- Train the perceptron for 2 epochs"
   ]
  },
  {
   "cell_type": "code",
   "execution_count": 9,
   "metadata": {},
   "outputs": [],
   "source": [
    "model_params = perceptron_train(X_train, y_train, \n",
    "                                mparams=None, zero_weights=True)\n",
    "\n",
    "for _ in range(2):\n",
    "    _ = perceptron_train(X_train, y_train, mparams=model_params)"
   ]
  },
  {
   "cell_type": "markdown",
   "metadata": {},
   "source": [
    "- Implement a function for perceptron predictions in NumPy"
   ]
  },
  {
   "cell_type": "code",
   "execution_count": 10,
   "metadata": {
    "collapsed": true
   },
   "outputs": [],
   "source": [
    "def perceptron_predict(features, mparams):\n",
    "    \"\"\"Perceptron prediction function for binary class labels\n",
    "\n",
    "    Parameters\n",
    "    ----------\n",
    "    features : numpy.ndarray, shape=(n_samples, m_features)\n",
    "        A 2D NumPy array containing the training examples\n",
    "\n",
    "    mparams : dict\n",
    "        The model parameters aof the perceptron in the form:\n",
    "        {'weights': np.array([weight_1, weight_2, ... , weight_m]),\n",
    "         'bias': np.array([bias])}\n",
    "\n",
    "    Returns\n",
    "    -------\n",
    "    predicted_labels : np.ndarray, shape=(n_samples)\n",
    "        NumPy array containing the predicted class labels.\n",
    "\n",
    "    \"\"\"\n",
    "    linear = np.dot(features, mparams['weights']) + mparams['bias']\n",
    "    predicted_labels = np.where(linear.reshape(-1) > 0., 1, 0)\n",
    "    return predicted_labels"
   ]
  },
  {
   "cell_type": "markdown",
   "metadata": {},
   "source": [
    "- Compute training and test error"
   ]
  },
  {
   "cell_type": "code",
   "execution_count": 11,
   "metadata": {},
   "outputs": [
    {
     "name": "stdout",
     "output_type": "stream",
     "text": [
      "Number of training errors 0\n",
      "Number of test errors 2\n"
     ]
    }
   ],
   "source": [
    "train_errors = np.sum(perceptron_predict(X_train, model_params) != y_train)\n",
    "test_errors = np.sum(perceptron_predict(X_test, model_params) != y_test)\n",
    "\n",
    "print('Number of training errors', train_errors)\n",
    "print('Number of test errors', test_errors)"
   ]
  },
  {
   "cell_type": "markdown",
   "metadata": {},
   "source": [
    "- Visualize the decision boundary"
   ]
  },
  {
   "cell_type": "markdown",
   "metadata": {},
   "source": [
    "Perceptron is a linear function with threshold\n",
    "\n",
    "$$w_{1}x_{1} + w_{2}x_{2} + b \\geq 0.$$\n",
    "\n",
    "We can rearrange this equation as follows:\n",
    "\n",
    "$$w_{1}x_{1} + b \\geq 0 - w_{2}x_{2}$$\n",
    "\n",
    "$$- \\frac{w_{1}x_{1}}{{w_2}} - \\frac{b}{w_2} \\leq x_{2}$$"
   ]
  },
  {
   "cell_type": "code",
   "execution_count": 12,
   "metadata": {},
   "outputs": [
    {
     "data": {
      "image/png": "[encoded data removed]",
      "text/plain": [
       "<matplotlib.figure.Figure at 0x10dd9de80>"
      ]
     },
     "metadata": {},
     "output_type": "display_data"
    }
   ],
   "source": [
    "x_min = -2\n",
    "y_min = ( -(model_params['weights'][0] * x_min) / model_params['weights'][1]\n",
    "          -(model_params['bias'] / model_params['weights'][1]) )\n",
    "\n",
    "x_max = 2\n",
    "y_max = ( -(model_params['weights'][0] * x_max) / model_params['weights'][1]\n",
    "          -(model_params['bias'] / model_params['weights'][1]) )\n",
    "\n",
    "\n",
    "fig, ax = plt.subplots(1, 2, sharex=True, figsize=(7, 3))\n",
    "\n",
    "ax[0].plot([x_min, x_max], [y_min, y_max])\n",
    "ax[1].plot([x_min, x_max], [y_min, y_max])\n",
    "\n",
    "ax[0].scatter(X_train[y_train==0, 0], X_train[y_train==0, 1], label='class 0', marker='o')\n",
    "ax[0].scatter(X_train[y_train==1, 0], X_train[y_train==1, 1], label='class 1', marker='s')\n",
    "\n",
    "ax[1].scatter(X_test[y_test==0, 0], X_test[y_test==0, 1], label='class 0', marker='o')\n",
    "ax[1].scatter(X_test[y_test==1, 0], X_test[y_test==1, 1], label='class 1', marker='s')\n",
    "\n",
    "ax[1].legend(loc='upper left')\n",
    "plt.show()"
   ]
  },
  {
   "cell_type": "markdown",
   "metadata": {},
   "source": [
    "- Suggested exercises\n",
    "\n",
    "\n",
    "1. Train a zero-weight perceptron with different learning rates and compare the model parameters and decision boundaries to each other. What do you observe?\n",
    "\n",
    "2. Repeat the previous exercise with randomly initialized weights."
   ]
  },
  {
   "cell_type": "code",
   "execution_count": 13,
   "metadata": {
    "collapsed": true
   },
   "outputs": [],
   "source": [
    "# %load solutions/01_weight_zero_learning_rate.py"
   ]
  },
  {
   "cell_type": "code",
   "execution_count": 14,
   "metadata": {
    "collapsed": true
   },
   "outputs": [],
   "source": [
    "# %load solutions/02_random_weights_learning_rate.py"
   ]
  },
  {
   "cell_type": "markdown",
   "metadata": {},
   "source": [
    "## Implementing a Perceptron in TensorFlow"
   ]
  },
  {
   "cell_type": "markdown",
   "metadata": {},
   "source": [
    "- Setting up the perceptron graph"
   ]
  },
  {
   "cell_type": "code",
   "execution_count": 16,
   "metadata": {},
   "outputs": [],
   "source": [
    "g = tf.Graph()\n",
    "\n",
    "\n",
    "n_features = X_train.shape[1]\n",
    "\n",
    "with g.as_default() as g:\n",
    "    \n",
    "    # initialize model parameters\n",
    "    features = tf.placeholder(dtype=tf.float32, \n",
    "                              shape=[None, n_features], name='features')\n",
    "    targets = tf.placeholder(dtype=tf.float32, \n",
    "                             shape=[None, 1], name='targets')\n",
    "    params = {\n",
    "        'weights': tf.Variable(tf.zeros(shape=[n_features, 1], \n",
    "                                        dtype=tf.float32), name='weights'),\n",
    "        'bias': tf.Variable([[0.]], dtype=tf.float32, name='bias')}\n",
    "    \n",
    "    # forward pass\n",
    "    linear = tf.matmul(features, params['weights']) + params['bias']\n",
    "    ones = tf.ones(shape=tf.shape(linear)) \n",
    "    zeros = tf.zeros(shape=tf.shape(linear))\n",
    "    prediction = tf.where(tf.less(linear, 0.), zeros, ones, name='prediction')\n",
    "    \n",
    "    # weight update\n",
    "    diff = targets - prediction\n",
    "    weight_update = tf.assign_add(params['weights'], \n",
    "                                  tf.reshape(diff * features, (n_features, 1)))\n",
    "    bias_update = tf.assign_add(params['bias'], diff)\n",
    "    \n",
    "    saver = tf.train.Saver()"
   ]
  },
  {
   "cell_type": "markdown",
   "metadata": {},
   "source": [
    "- Training the perceptron for 5 training samples for illustration purposes"
   ]
  },
  {
   "cell_type": "code",
   "execution_count": 17,
   "metadata": {},
   "outputs": [
    {
     "name": "stdout",
     "output_type": "stream",
     "text": [
      "Model parameters:\n",
      " {'weights': array([[ 1.47257054],\n",
      "       [ 0.30436274]], dtype=float32), 'bias': array([[-1.]], dtype=float32)}\n",
      "Number of training errors: 3\n"
     ]
    }
   ],
   "source": [
    "with tf.Session(graph=g) as sess:\n",
    "    \n",
    "    sess.run(tf.global_variables_initializer())\n",
    "    \n",
    "    i = 0\n",
    "    for example, target in zip(X_train, y_train):\n",
    "        feed_dict = {features: example.reshape(-1, n_features),\n",
    "                     targets: target.reshape(-1, 1)}\n",
    "        _, _ = sess.run([weight_update, bias_update], feed_dict=feed_dict)\n",
    "        \n",
    "        i += 1\n",
    "        if i >= 4:\n",
    "            break\n",
    "        \n",
    "\n",
    "    modelparams = sess.run(params)    \n",
    "    print('Model parameters:\\n', modelparams)\n",
    "\n",
    "    saver.save(sess, save_path='perceptron')\n",
    "    \n",
    "    pred = sess.run(prediction, feed_dict={features: X_train})\n",
    "    errors = np.sum(pred.reshape(-1) != y_train)\n",
    "    print('Number of training errors:', errors)"
   ]
  },
  {
   "cell_type": "markdown",
   "metadata": {},
   "source": [
    "- Continue training of the graph after restoring the session from a local checkpoint (this can be useful if we have to interrupt out computational session)\n",
    "- Now train a complete epoch"
   ]
  },
  {
   "cell_type": "code",
   "execution_count": 18,
   "metadata": {},
   "outputs": [
    {
     "name": "stdout",
     "output_type": "stream",
     "text": [
      "Number of training errors 0\n",
      "Number of test errors 0\n"
     ]
    }
   ],
   "source": [
    "with tf.Session(graph=g) as sess:\n",
    "    saver.restore(sess, os.path.abspath('perceptron'))\n",
    "\n",
    "    for epoch in range(1):\n",
    "        for example, target in zip(X_train, y_train):\n",
    "            feed_dict = {features: example.reshape(-1, n_features),\n",
    "                         targets: target.reshape(-1, 1)}\n",
    "            _, _ = sess.run([weight_update, bias_update], feed_dict=feed_dict)\n",
    "            modelparams = sess.run(params)\n",
    "\n",
    "    saver.save(sess, save_path='perceptron')\n",
    "    \n",
    "    pred = sess.run(prediction, feed_dict={features: X_train})\n",
    "    train_errors = np.sum(pred.reshape(-1) != y_train)\n",
    "    pred = sess.run(prediction, feed_dict={features: X_train})\n",
    "    test_errors = np.sum(pred.reshape(-1) != y_train)\n",
    "\n",
    "    print('Number of training errors', train_errors)\n",
    "    print('Number of test errors', test_errors)"
   ]
  },
  {
   "cell_type": "markdown",
   "metadata": {},
   "source": [
    "- Suggested Exercises\n",
    "\n",
    "\n",
    "3) Plot the decision boundary for this TensorFlow perceptron. Why do you think the TensorFlow implementation performs better than our NumPy implementation on the test set?\n",
    " - Hint 1: you can re-use the code that we used in the NumPy section\n",
    " - Hint 2: since the bias is a 2D array, you need to access the float value via `modelparams['bias'][0]`\n",
    " "
   ]
  },
  {
   "cell_type": "code",
   "execution_count": 19,
   "metadata": {},
   "outputs": [],
   "source": [
    "# %load solutions/03_tensorflow-boundary.py"
   ]
  },
  {
   "cell_type": "markdown",
   "metadata": {},
   "source": [
    "- Theoretically, we could restart the Jupyter notebook now (we would just have to prepare the dataset again then, though)\n",
    "- We are going to restore the session from a meta graph (notice \"`tf.Session()`\")\n",
    "- First, we have to load the datasets again"
   ]
  },
  {
   "cell_type": "code",
   "execution_count": 20,
   "metadata": {},
   "outputs": [
    {
     "name": "stdout",
     "output_type": "stream",
     "text": [
      "Number of training errors 0\n",
      "Number of test errors 0\n"
     ]
    }
   ],
   "source": [
    "with tf.Session() as sess:\n",
    "    \n",
    "    saver = tf.train.import_meta_graph(os.path.abspath('perceptron.meta'))\n",
    "    saver.restore(sess, os.path.abspath('perceptron'))\n",
    "    \n",
    "    pred = sess.run('prediction:0', feed_dict={'features:0': X_train})\n",
    "    train_errors = np.sum(pred.reshape(-1) != y_train)\n",
    "    pred = sess.run('prediction:0', feed_dict={'features:0': X_test})\n",
    "    test_errors = np.sum(pred.reshape(-1) != y_test)\n",
    "    \n",
    "    print('Number of training errors', train_errors)\n",
    "    print('Number of test errors', test_errors)"
   ]
  }
 ],
 "metadata": {
  "anaconda-cloud": {},
  "kernelspec": {
   "display_name": "Python 3",
   "language": "python",
   "name": "python3"
  },
  "language_info": {
   "codemirror_mode": {
    "name": "ipython",
    "version": 3
   },
   "file_extension": ".py",
   "mimetype": "text/x-python",
   "name": "python",
   "nbconvert_exporter": "python",
   "pygments_lexer": "ipython3",
   "version": "3.6.4"
  },
  "toc": {
   "nav_menu": {},
   "number_sections": true,
   "sideBar": true,
   "skip_h1_title": false,
   "title_cell": "Table of Contents",
   "title_sidebar": "Contents",
   "toc_cell": false,
   "toc_position": {},
   "toc_section_display": true,
   "toc_window_display": false
  }
 },
 "nbformat": 4,
 "nbformat_minor": 2
}
