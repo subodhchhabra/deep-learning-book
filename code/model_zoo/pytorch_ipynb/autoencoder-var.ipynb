{
 "cells": [
  {
   "cell_type": "markdown",
   "metadata": {},
   "source": [
    "*Accompanying code examples of the book \"Introduction to Artificial Neural Networks and Deep Learning: A Practical Guide with Applications in Python\" by [Sebastian Raschka](https://sebastianraschka.com). All code examples are released under the [MIT license](https://github.com/rasbt/deep-learning-book/blob/master/LICENSE). If you find this content useful, please consider supporting the work by buying a [copy of the book](https://leanpub.com/ann-and-deeplearning).*\n",
    "  \n",
    "Other code examples and content are available on [GitHub](https://github.com/rasbt/deep-learning-book). The PDF and ebook versions of the book are available through [Leanpub](https://leanpub.com/ann-and-deeplearning)."
   ]
  },
  {
   "cell_type": "code",
   "execution_count": 1,
   "metadata": {},
   "outputs": [
    {
     "name": "stdout",
     "output_type": "stream",
     "text": [
      "Sebastian Raschka \n",
      "\n",
      "CPython 3.6.4\n",
      "IPython 6.2.1\n",
      "\n",
      "torch 0.4.0\n"
     ]
    }
   ],
   "source": [
    "%load_ext watermark\n",
    "%watermark -a 'Sebastian Raschka' -v -p torch"
   ]
  },
  {
   "cell_type": "markdown",
   "metadata": {},
   "source": [
    "- Runs on CPU or GPU (if available)"
   ]
  },
  {
   "cell_type": "markdown",
   "metadata": {},
   "source": [
    "# Model Zoo -- Variational Autoencoder"
   ]
  },
  {
   "cell_type": "markdown",
   "metadata": {},
   "source": [
    "A simple variational autoencoder that compresses 768-pixel MNIST images down to a 15-pixel latent vector representation."
   ]
  },
  {
   "cell_type": "markdown",
   "metadata": {},
   "source": [
    "## Imports"
   ]
  },
  {
   "cell_type": "code",
   "execution_count": 2,
   "metadata": {},
   "outputs": [],
   "source": [
    "import numpy as np\n",
    "import torch\n",
    "import torch.nn.functional as F\n",
    "from torch.utils.data import DataLoader\n",
    "from torchvision import datasets\n",
    "from torchvision import transforms"
   ]
  },
  {
   "cell_type": "code",
   "execution_count": 3,
   "metadata": {},
   "outputs": [
    {
     "name": "stdout",
     "output_type": "stream",
     "text": [
      "Device: cpu\n",
      "Image batch dimensions: torch.Size([128, 1, 28, 28])\n",
      "Image label dimensions: torch.Size([128])\n"
     ]
    }
   ],
   "source": [
    "##########################\n",
    "### SETTINGS\n",
    "##########################\n",
    "\n",
    "# Device\n",
    "device = torch.device(\"cuda:0\" if torch.cuda.is_available() else \"cpu\")\n",
    "print('Device:', device)\n",
    "\n",
    "# Hyperparameters\n",
    "random_seed = 123\n",
    "learning_rate = 0.001\n",
    "num_epochs = 5\n",
    "batch_size = 128\n",
    "\n",
    "# Architecture\n",
    "num_features = 784\n",
    "num_hidden_1 = 500\n",
    "num_latent = 15\n",
    "\n",
    "\n",
    "##########################\n",
    "### MNIST DATASET\n",
    "##########################\n",
    "\n",
    "# Note transforms.ToTensor() scales input images\n",
    "# to 0-1 range\n",
    "train_dataset = datasets.MNIST(root='data', \n",
    "                               train=True, \n",
    "                               transform=transforms.ToTensor(),\n",
    "                               download=True)\n",
    "\n",
    "test_dataset = datasets.MNIST(root='data', \n",
    "                              train=False, \n",
    "                              transform=transforms.ToTensor())\n",
    "\n",
    "\n",
    "train_loader = DataLoader(dataset=train_dataset, \n",
    "                          batch_size=batch_size, \n",
    "                          shuffle=True)\n",
    "\n",
    "test_loader = DataLoader(dataset=test_dataset, \n",
    "                         batch_size=batch_size, \n",
    "                         shuffle=False)\n",
    "\n",
    "# Checking the dataset\n",
    "for images, labels in train_loader:  \n",
    "    print('Image batch dimensions:', images.shape)\n",
    "    print('Image label dimensions:', labels.shape)\n",
    "    break"
   ]
  },
  {
   "cell_type": "markdown",
   "metadata": {},
   "source": [
    "## Model"
   ]
  },
  {
   "cell_type": "code",
   "execution_count": 4,
   "metadata": {},
   "outputs": [],
   "source": [
    "##########################\n",
    "### MODEL\n",
    "##########################\n",
    "\n",
    "class VariationalAutoencoder(torch.nn.Module):\n",
    "\n",
    "    def __init__(self, num_features, num_hidden_1, num_latent):\n",
    "        super(VariationalAutoencoder, self).__init__()\n",
    "        \n",
    "        ### ENCODER\n",
    "        self.hidden_1 = torch.nn.Linear(num_features, num_hidden_1)\n",
    "        self.z_mean = torch.nn.Linear(num_hidden_1, num_latent)\n",
    "        self.z_log_var = torch.nn.Linear(num_hidden_1, num_latent)\n",
    "        \n",
    "        \n",
    "        ### DECODER\n",
    "        self.linear_3 = torch.nn.Linear(num_latent, num_hidden_1)\n",
    "        self.linear_4 = torch.nn.Linear(num_hidden_1, num_features)\n",
    "\n",
    "    def reparameterize(self, z_mu, z_log_var):\n",
    "        # Sample epsilon from standard normal distribution\n",
    "        eps = torch.randn(z_mu.size(0), z_mu.size(1)).to(device)\n",
    "        # note that log(x^2) = 2*log(x); hence divide by 2 to get std_dev\n",
    "        z = z_mu + eps * torch.exp(z_log_var/2.) \n",
    "        return z\n",
    "        \n",
    "\n",
    "    def forward(self, x):\n",
    "        \n",
    "        ### ENCODER\n",
    "        x = self.hidden_1(x)\n",
    "        x = F.relu(x)\n",
    "        z_mean = self.z_mean(x)\n",
    "        z_log_var = self.z_log_var(x)\n",
    "        encoded = self.reparameterize(z_mean, z_log_var)\n",
    "        \n",
    "        ### DECODER\n",
    "        x = self.linear_3(encoded)\n",
    "        x = F.relu(x)\n",
    "        x = self.linear_4(x)\n",
    "        decoded = F.sigmoid(x)\n",
    "        \n",
    "        return z_mean, z_log_var, encoded, decoded\n",
    "\n",
    "    \n",
    "torch.manual_seed(random_seed)\n",
    "model = VariationalAutoencoder(num_features,\n",
    "                               num_hidden_1,\n",
    "                               num_latent)\n",
    "model = model.to(device)\n",
    "    \n",
    "\n",
    "##########################\n",
    "### COST AND OPTIMIZER\n",
    "##########################\n",
    "\n",
    "optimizer = torch.optim.Adam(model.parameters(), lr=learning_rate)  "
   ]
  },
  {
   "cell_type": "markdown",
   "metadata": {},
   "source": [
    "## Training"
   ]
  },
  {
   "cell_type": "code",
   "execution_count": 5,
   "metadata": {},
   "outputs": [
    {
     "name": "stdout",
     "output_type": "stream",
     "text": [
      "Epoch: 001/005 | Batch 000/468 | Cost: 70690.5234\n",
      "Epoch: 001/005 | Batch 050/468 | Cost: 26577.2266\n",
      "Epoch: 001/005 | Batch 100/468 | Cost: 22768.0684\n",
      "Epoch: 001/005 | Batch 150/468 | Cost: 19962.9766\n",
      "Epoch: 001/005 | Batch 200/468 | Cost: 18513.4980\n",
      "Epoch: 001/005 | Batch 250/468 | Cost: 18312.0352\n",
      "Epoch: 001/005 | Batch 300/468 | Cost: 17719.9023\n",
      "Epoch: 001/005 | Batch 350/468 | Cost: 17178.9941\n",
      "Epoch: 001/005 | Batch 400/468 | Cost: 16102.8477\n",
      "Epoch: 001/005 | Batch 450/468 | Cost: 16452.7461\n",
      "Epoch: 002/005 | Batch 000/468 | Cost: 15541.4561\n",
      "Epoch: 002/005 | Batch 050/468 | Cost: 15537.3926\n",
      "Epoch: 002/005 | Batch 100/468 | Cost: 15945.7266\n",
      "Epoch: 002/005 | Batch 150/468 | Cost: 15082.3652\n",
      "Epoch: 002/005 | Batch 200/468 | Cost: 15397.8359\n",
      "Epoch: 002/005 | Batch 250/468 | Cost: 14995.3613\n",
      "Epoch: 002/005 | Batch 300/468 | Cost: 15054.1230\n",
      "Epoch: 002/005 | Batch 350/468 | Cost: 15059.7988\n",
      "Epoch: 002/005 | Batch 400/468 | Cost: 14945.8359\n",
      "Epoch: 002/005 | Batch 450/468 | Cost: 14754.8281\n",
      "Epoch: 003/005 | Batch 000/468 | Cost: 14439.0742\n",
      "Epoch: 003/005 | Batch 050/468 | Cost: 14788.3633\n",
      "Epoch: 003/005 | Batch 100/468 | Cost: 14117.6455\n",
      "Epoch: 003/005 | Batch 150/468 | Cost: 14707.2588\n",
      "Epoch: 003/005 | Batch 200/468 | Cost: 14533.3203\n",
      "Epoch: 003/005 | Batch 250/468 | Cost: 14089.6621\n",
      "Epoch: 003/005 | Batch 300/468 | Cost: 14522.2656\n",
      "Epoch: 003/005 | Batch 350/468 | Cost: 15083.3525\n",
      "Epoch: 003/005 | Batch 400/468 | Cost: 14761.5742\n",
      "Epoch: 003/005 | Batch 450/468 | Cost: 14169.8535\n",
      "Epoch: 004/005 | Batch 000/468 | Cost: 13796.1455\n",
      "Epoch: 004/005 | Batch 050/468 | Cost: 14172.0850\n",
      "Epoch: 004/005 | Batch 100/468 | Cost: 14645.0566\n",
      "Epoch: 004/005 | Batch 150/468 | Cost: 13837.1738\n",
      "Epoch: 004/005 | Batch 200/468 | Cost: 13806.7646\n",
      "Epoch: 004/005 | Batch 250/468 | Cost: 14535.6885\n",
      "Epoch: 004/005 | Batch 300/468 | Cost: 14594.3711\n",
      "Epoch: 004/005 | Batch 350/468 | Cost: 14566.8477\n",
      "Epoch: 004/005 | Batch 400/468 | Cost: 14189.8711\n",
      "Epoch: 004/005 | Batch 450/468 | Cost: 14116.2588\n",
      "Epoch: 005/005 | Batch 000/468 | Cost: 14494.4902\n",
      "Epoch: 005/005 | Batch 050/468 | Cost: 14236.8105\n",
      "Epoch: 005/005 | Batch 100/468 | Cost: 14406.7871\n",
      "Epoch: 005/005 | Batch 150/468 | Cost: 13621.3379\n",
      "Epoch: 005/005 | Batch 200/468 | Cost: 14135.5088\n",
      "Epoch: 005/005 | Batch 250/468 | Cost: 14105.4307\n",
      "Epoch: 005/005 | Batch 300/468 | Cost: 14299.8164\n",
      "Epoch: 005/005 | Batch 350/468 | Cost: 13732.8975\n",
      "Epoch: 005/005 | Batch 400/468 | Cost: 13701.9697\n",
      "Epoch: 005/005 | Batch 450/468 | Cost: 14039.4043\n"
     ]
    }
   ],
   "source": [
    "for epoch in range(num_epochs):\n",
    "    for batch_idx, (features, targets) in enumerate(train_loader):\n",
    "        \n",
    "        # don't need labels, only the images (features)\n",
    "        features = features.view(-1, 28*28).to(device)\n",
    "\n",
    "        ### FORWARD AND BACK PROP\n",
    "        z_mean, z_log_var, encoded, decoded = model(features)\n",
    "\n",
    "        # cost = reconstruction loss + Kullback-Leibler divergence\n",
    "        kl_divergence = (0.5 * (z_mean**2 + \n",
    "                                torch.exp(z_log_var) - z_log_var - 1)).sum()\n",
    "        pixelwise_bce = F.binary_cross_entropy(decoded, features, size_average=False)\n",
    "        cost = kl_divergence + pixelwise_bce\n",
    "        \n",
    "        optimizer.zero_grad()\n",
    "        cost.backward()\n",
    "        \n",
    "        ### UPDATE MODEL PARAMETERS\n",
    "        optimizer.step()\n",
    "        \n",
    "        ### LOGGING\n",
    "        if not batch_idx % 50:\n",
    "            print ('Epoch: %03d/%03d | Batch %03d/%03d | Cost: %.4f' \n",
    "                   %(epoch+1, num_epochs, batch_idx, \n",
    "                     len(train_dataset)//batch_size, cost))"
   ]
  },
  {
   "cell_type": "markdown",
   "metadata": {},
   "source": [
    "## Evaluation"
   ]
  },
  {
   "cell_type": "code",
   "execution_count": 6,
   "metadata": {},
   "outputs": [
    {
     "data": {
      "image/png": "[encoded data removed]",
      "text/plain": [
       "<matplotlib.figure.Figure at 0x107c29048>"
      ]
     },
     "metadata": {},
     "output_type": "display_data"
    }
   ],
   "source": [
    "%matplotlib inline\n",
    "import matplotlib.pyplot as plt\n",
    "\n",
    "##########################\n",
    "### VISUALIZATION\n",
    "##########################\n",
    "\n",
    "n_images = 15\n",
    "image_width = 28\n",
    "\n",
    "fig, axes = plt.subplots(nrows=2, ncols=n_images, \n",
    "                         sharex=True, sharey=True, figsize=(20, 2.5))\n",
    "orig_images = features[:n_images]\n",
    "decoded_images = decoded[:n_images]\n",
    "\n",
    "for i in range(n_images):\n",
    "    for ax, img in zip(axes, [orig_images, decoded_images]):\n",
    "        ax[i].imshow(img[i].detach().reshape((image_width, image_width)), cmap='binary')"
   ]
  }
 ],
 "metadata": {
  "kernelspec": {
   "display_name": "Python 3",
   "language": "python",
   "name": "python3"
  },
  "language_info": {
   "codemirror_mode": {
    "name": "ipython",
    "version": 3
   },
   "file_extension": ".py",
   "mimetype": "text/x-python",
   "name": "python",
   "nbconvert_exporter": "python",
   "pygments_lexer": "ipython3",
   "version": "3.6.4"
  },
  "toc": {
   "nav_menu": {},
   "number_sections": true,
   "sideBar": true,
   "skip_h1_title": false,
   "title_cell": "Table of Contents",
   "title_sidebar": "Contents",
   "toc_cell": false,
   "toc_position": {},
   "toc_section_display": true,
   "toc_window_display": false
  }
 },
 "nbformat": 4,
 "nbformat_minor": 2
}
