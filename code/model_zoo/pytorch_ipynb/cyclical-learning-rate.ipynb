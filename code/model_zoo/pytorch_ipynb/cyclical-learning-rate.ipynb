{
 "cells": [
  {
   "cell_type": "markdown",
   "metadata": {
    "colab_type": "text",
    "id": "gsn45i8AWUxw"
   },
   "source": [
    "*Accompanying code examples of the book \"Introduction to Artificial Neural Networks and Deep Learning: A Practical Guide with Applications in Python\" by [Sebastian Raschka](https://sebastianraschka.com). All code examples are released under the [MIT license](https://github.com/rasbt/deep-learning-book/blob/master/LICENSE). If you find this content useful, please consider supporting the work by buying a [copy of the book](https://leanpub.com/ann-and-deeplearning).*\n",
    "  \n",
    "Other code examples and content are available on [GitHub](https://github.com/rasbt/deep-learning-book). The PDF and ebook versions of the book are available through [Leanpub](https://leanpub.com/ann-and-deeplearning)."
   ]
  },
  {
   "cell_type": "code",
   "execution_count": 0,
   "metadata": {
    "colab": {
     "base_uri": "https://localhost:8080/",
     "height": 119
    },
    "colab_type": "code",
    "id": "jcO_pGrwWUxx",
    "outputId": "001a0bdd-7224-459f-a80e-9d2336f9edb1"
   },
   "outputs": [
    {
     "name": "stdout",
     "output_type": "stream",
     "text": [
      "Sebastian Raschka \n",
      "\n",
      "CPython 3.6.3\n",
      "IPython 5.5.0\n",
      "\n",
      "torch 0.4.1\n"
     ]
    }
   ],
   "source": [
    "%load_ext watermark\n",
    "%watermark -a 'Sebastian Raschka' -v -p torch"
   ]
  },
  {
   "cell_type": "markdown",
   "metadata": {
    "colab_type": "text",
    "id": "yaPAGojpWUx2"
   },
   "source": [
    "- Runs on CPU or GPU (if available)"
   ]
  },
  {
   "cell_type": "markdown",
   "metadata": {
    "colab_type": "text",
    "id": "lYFsqMPGWUx3"
   },
   "source": [
    "# Model Zoo -- Cyclical Learning Rate in PyTorch"
   ]
  },
  {
   "cell_type": "markdown",
   "metadata": {
    "colab_type": "text",
    "id": "Fa9mT_urXvMf"
   },
   "source": [
    "This notebook will go over the following topics in the order listed below:\n",
    "\n",
    "1. Briefly explain the concept behind the cyclical learning rate\n",
    "2. Use the \"LR range test\" to choose a good base and max learning rate for the cyclical leraning rate\n",
    "3. Train a simple convolutional neural net on CIFAR-10 using the cyclical learning rate"
   ]
  },
  {
   "cell_type": "markdown",
   "metadata": {
    "colab_type": "text",
    "id": "HqJXinN5WUx3"
   },
   "source": [
    "## Cyclical Learning Rate Concept"
   ]
  },
  {
   "cell_type": "markdown",
   "metadata": {
    "colab_type": "text",
    "id": "8Q6XUX6GSYD-"
   },
   "source": [
    "In his paper [1], Leslie N. Smith introduced the concept of cyclical learning rates, that is, learning rates that periodically alternative between a user-specified minimum and maximum learning rate. \n",
    "\n",
    "Varying the learning rate between between specified bounds, as implemented by Smith, is cheaper to compute than the nowadays popular approach using adaptive learning rates. Note that adaptive learning rate can also be combined with the concept of cyclical learning rates.\n",
    "\n",
    "The idea behind cyclical learning rates is that while increasing the learning rate can be harmful short term it can be beneficial in the long run. Concretely, the three methods introduced by Smith (and implemented in this notebook) are\n",
    "\n",
    "- `triangular`: The base approach, varying between a lower and an upper bound, as illustrated in the figure below\n",
    "- `triangular2`: Same as triangular, but learning rate difference is cut in half at the end of each cycle. This means the learning rate difference drops after each cycle\n",
    "-- `exp_range`: The learning rate varies between the minimum and maximum boundaries and each boundary value declines by an exponential factor of $gamma^{iteration}$\n",
    "\n",
    "\n",
    "{insert figure}\n",
    "\n",
    "\n",
    "### References\n",
    "\n",
    "\n",
    "- [1] Smith, Leslie N. “[Cyclical learning rates for training neural networks](https://ieeexplore.ieee.org/abstract/document/7926641/).” Applications of Computer Vision (WACV), 2017 IEEE Winter Conference on. IEEE, 2017."
   ]
  },
  {
   "cell_type": "markdown",
   "metadata": {
    "colab_type": "text",
    "id": "wx0idSn5SWG1"
   },
   "source": [
    "Following the description in the paper, the different cyclical learning rates are very simple to implement, as shown below:"
   ]
  },
  {
   "cell_type": "code",
   "execution_count": 0,
   "metadata": {
    "colab": {},
    "colab_type": "code",
    "id": "WmHAbUMlWUx4"
   },
   "outputs": [],
   "source": [
    "import numpy as np\n",
    "\n",
    "\n",
    "def cyclical_learning_rate(batch_step,\n",
    "                           step_size,\n",
    "                           base_lr=0.001,\n",
    "                           max_lr=0.006,\n",
    "                           mode='triangular',\n",
    "                           gamma=0.999995):\n",
    "\n",
    "    cycle = np.floor(1 + batch_step / (2. * step_size))\n",
    "    x = np.abs(batch_step / float(step_size) - 2 * cycle + 1)\n",
    "\n",
    "    lr_delta = (max_lr - base_lr) * np.maximum(0, (1 - x))\n",
    "    \n",
    "    if mode == 'triangular':\n",
    "        pass\n",
    "    elif mode == 'triangular2':\n",
    "        lr_delta = lr_delta * 1 / (2. ** (cycle - 1))\n",
    "    elif mode == 'exp_range':\n",
    "        lr_delta = lr_delta * (gamma**(batch_step))\n",
    "    else:\n",
    "        raise ValueError('mode must be \"triangular\", \"triangular2\", or \"exp_range\"')\n",
    "        \n",
    "    lr = base_lr + lr_delta\n",
    "    \n",
    "    return lr"
   ]
  },
  {
   "cell_type": "markdown",
   "metadata": {
    "colab_type": "text",
    "id": "DwyuJm46YXQf"
   },
   "source": [
    "To ensure that the learning rate works as intended, let us plot the learning rate variation for a dry run. Note that `batch_step` is a variable that tracks the total number of times a model has been updated. For instance, if we run the training loop over 5 epochs (5 passes over the training set), where each epoch is split into 100 batches, then we have a `batch_step` count of 5 * 100 = 500 at the end of the training. "
   ]
  },
  {
   "cell_type": "code",
   "execution_count": 0,
   "metadata": {
    "colab": {},
    "colab_type": "code",
    "id": "CQx-HDcyYWlu"
   },
   "outputs": [],
   "source": [
    "num_epochs = 50\n",
    "num_train = 50000\n",
    "batch_size = 100\n",
    "iter_per_ep = num_train // batch_size"
   ]
  },
  {
   "cell_type": "markdown",
   "metadata": {
    "colab_type": "text",
    "id": "87UblsShY7Uy"
   },
   "source": [
    "**Triangular**"
   ]
  },
  {
   "cell_type": "code",
   "execution_count": 0,
   "metadata": {
    "colab": {
     "base_uri": "https://localhost:8080/",
     "height": 269
    },
    "colab_type": "code",
    "id": "qIHyChx8Y6Lu",
    "outputId": "ab9a6ae8-db6e-4846-c48c-a7ce99443df8"
   },
   "outputs": [
    {
     "data": {
      "image/png": "[encoded data removed]",
      "text/plain": [
       "<matplotlib.figure.Figure at 0x7f5e44af6550>"
      ]
     },
     "metadata": {
      "tags": []
     },
     "output_type": "display_data"
    }
   ],
   "source": [
    "%matplotlib inline\n",
    "import matplotlib.pyplot as plt\n",
    "\n",
    "\n",
    "batch_step = -1\n",
    "collect_lr = []\n",
    "for e in range(num_epochs):\n",
    "    for i in range(iter_per_ep):\n",
    "        batch_step += 1\n",
    "        cur_lr = cyclical_learning_rate(batch_step=batch_step,\n",
    "                                        step_size=iter_per_ep*5)\n",
    "        \n",
    "        collect_lr.append(cur_lr)\n",
    "        \n",
    "plt.scatter(range(len(collect_lr)), collect_lr)\n",
    "plt.ylim([0.0, 0.01])\n",
    "plt.xlim([0, num_epochs*iter_per_ep + 5000])\n",
    "plt.show()"
   ]
  },
  {
   "cell_type": "markdown",
   "metadata": {
    "colab_type": "text",
    "id": "YkKd-HdtbWqv"
   },
   "source": [
    "As we can see above, with a batchsize of 100 and for a training set of 50,000 training example, we have 50,000=500 iterations per epoch. With a cycle length of 5*iterations_per_epoch=25,000, the learning rate reaches the base_lr every 5 epochs, which is equal to 25,000 batch updates. The stepsize is defined as cycle/2, i.e., 25,000/2 = 12,500 batch updates."
   ]
  },
  {
   "cell_type": "markdown",
   "metadata": {
    "colab_type": "text",
    "id": "bMErqRevY-hO"
   },
   "source": [
    "**Triangular2**"
   ]
  },
  {
   "cell_type": "markdown",
   "metadata": {
    "colab_type": "text",
    "id": "pFBm9DnTcmiM"
   },
   "source": [
    "The `triangular2` learning rate is similar to the `triangular` learning rate but cuts the max. learning rate in halve after each cycle."
   ]
  },
  {
   "cell_type": "code",
   "execution_count": 0,
   "metadata": {
    "colab": {
     "base_uri": "https://localhost:8080/",
     "height": 269
    },
    "colab_type": "code",
    "id": "pATJZ3BbY9sZ",
    "outputId": "192f3447-7072-445d-d8dd-d48d5c19c177"
   },
   "outputs": [
    {
     "data": {
      "image/png": "[encoded data removed]",
      "text/plain": [
       "<matplotlib.figure.Figure at 0x7f5dff53b978>"
      ]
     },
     "metadata": {
      "tags": []
     },
     "output_type": "display_data"
    }
   ],
   "source": [
    "collect_lr = []\n",
    "batch_step = -1\n",
    "for e in range(num_epochs):\n",
    "    for i in range(iter_per_ep):\n",
    "        batch_step += 1\n",
    "        cur_lr = cyclical_learning_rate(batch_step=batch_step,\n",
    "                                        step_size=iter_per_ep*4,\n",
    "                                        mode='triangular2')\n",
    "        \n",
    "        collect_lr.append(cur_lr)\n",
    "        \n",
    "plt.scatter(range(len(collect_lr)), collect_lr)\n",
    "plt.ylim([0.0, 0.01])\n",
    "plt.xlim([0, num_epochs*iter_per_ep + 5000])\n",
    "plt.show()"
   ]
  },
  {
   "cell_type": "markdown",
   "metadata": {
    "colab_type": "text",
    "id": "ogc0gqPTZAjz"
   },
   "source": [
    "**Exp_range**"
   ]
  },
  {
   "cell_type": "markdown",
   "metadata": {
    "colab_type": "text",
    "id": "470maAxLc6UC"
   },
   "source": [
    "The `exp_range` option adds an additional hyperparameter, `gamma` to decay the learning rate exponentially."
   ]
  },
  {
   "cell_type": "code",
   "execution_count": 0,
   "metadata": {
    "colab": {
     "base_uri": "https://localhost:8080/",
     "height": 269
    },
    "colab_type": "code",
    "id": "SBm5Q7x9Zt54",
    "outputId": "8f5f1662-ace9-43e8-f97b-4bed6fecb590"
   },
   "outputs": [
    {
     "data": {
      "image/png": "[encoded data removed]",
      "text/plain": [
       "<matplotlib.figure.Figure at 0x7f5dff473eb8>"
      ]
     },
     "metadata": {
      "tags": []
     },
     "output_type": "display_data"
    }
   ],
   "source": [
    "collect_lr = []\n",
    "batch_step = -1\n",
    "for e in range(num_epochs):\n",
    "    for i in range(iter_per_ep):\n",
    "        batch_step += 1\n",
    "        cur_lr = cyclical_learning_rate(batch_step=batch_step,\n",
    "                                        step_size=iter_per_ep*4,\n",
    "                                        mode='exp_range',\n",
    "                                        gamma=0.99998)\n",
    "        \n",
    "        collect_lr.append(cur_lr)\n",
    "        \n",
    "plt.scatter(range(len(collect_lr)), collect_lr)\n",
    "plt.ylim([0.0, 0.01])\n",
    "plt.xlim([0, num_epochs*iter_per_ep + 5000])\n",
    "plt.show()"
   ]
  },
  {
   "cell_type": "markdown",
   "metadata": {
    "colab_type": "text",
    "id": "8HhNsfbmWUx7"
   },
   "source": [
    "## Torch Imports"
   ]
  },
  {
   "cell_type": "code",
   "execution_count": 0,
   "metadata": {
    "colab": {},
    "colab_type": "code",
    "id": "ZfG-3PemWUx7"
   },
   "outputs": [],
   "source": [
    "import torch\n",
    "import torch.nn.functional as F\n",
    "from torchvision import datasets\n",
    "from torchvision import transforms\n",
    "from torch.utils.data.sampler import SubsetRandomSampler\n",
    "from torch.utils.data import DataLoader"
   ]
  },
  {
   "cell_type": "markdown",
   "metadata": {
    "colab_type": "text",
    "id": "7NYCdJSHWUx-"
   },
   "source": [
    "## Settings and Dataset"
   ]
  },
  {
   "cell_type": "code",
   "execution_count": 0,
   "metadata": {
    "colab": {
     "base_uri": "https://localhost:8080/",
     "height": 119
    },
    "colab_type": "code",
    "id": "r0x1fTW0WUx_",
    "outputId": "7bf96884-0d96-4ac4-c77d-583bd0b6b651"
   },
   "outputs": [
    {
     "name": "stdout",
     "output_type": "stream",
     "text": [
      "Files already downloaded and verified\n",
      "Image batch dimensions: torch.Size([128, 3, 32, 32])\n",
      "Image label dimensions: torch.Size([128])\n",
      "Number of training examples: 49000\n",
      "Number of validation instances: 1000\n",
      "Number of test instances: 10000\n"
     ]
    }
   ],
   "source": [
    "##########################\n",
    "### SETTINGS\n",
    "##########################\n",
    "\n",
    "# Device\n",
    "device = torch.device(\"cuda:0\" if torch.cuda.is_available() else \"cpu\")\n",
    "\n",
    "# Hyperparameters\n",
    "random_seed = 1\n",
    "batch_size = 128\n",
    "\n",
    "# Architecture\n",
    "num_classes = 10\n",
    "\n",
    "\n",
    "##########################\n",
    "### CIFAR-10 DATASET\n",
    "##########################\n",
    "\n",
    "# Note transforms.ToTensor() scales input images\n",
    "# to 0-1 range\n",
    "\n",
    "## Create a validation dataset\n",
    "np.random.seed(random_seed)\n",
    "idx = np.arange(50000) # the size of CIFAR10-train\n",
    "np.random.shuffle(idx)\n",
    "val_idx, train_idx = idx[:1000], idx[1000:]\n",
    "train_sampler = SubsetRandomSampler(train_idx)\n",
    "val_sampler = SubsetRandomSampler(val_idx)\n",
    "\n",
    "\n",
    "train_dataset = datasets.CIFAR10(root='data', \n",
    "                                 train=True, \n",
    "                                 transform=transforms.ToTensor(),\n",
    "                                 download=True)\n",
    "\n",
    "test_dataset = datasets.CIFAR10(root='data', \n",
    "                                train=False, \n",
    "                                transform=transforms.ToTensor())\n",
    "\n",
    "\n",
    "train_loader = DataLoader(dataset=train_dataset, \n",
    "                          batch_size=batch_size, \n",
    "                          # shuffle=True, # Subsetsampler already shuffles\n",
    "                          sampler=train_sampler)\n",
    "\n",
    "val_loader = DataLoader(dataset=train_dataset, \n",
    "                        batch_size=batch_size, \n",
    "                        # shuffle=True,\n",
    "                        sampler=val_sampler)\n",
    "\n",
    "test_loader = DataLoader(dataset=test_dataset, \n",
    "                         batch_size=batch_size, \n",
    "                         shuffle=False)\n",
    "\n",
    "# Checking the dataset\n",
    "for images, labels in train_loader:  \n",
    "    print('Image batch dimensions:', images.shape)\n",
    "    print('Image label dimensions:', labels.shape)\n",
    "    break\n",
    "    \n",
    "cnt = 0\n",
    "for images, labels in train_loader: \n",
    "    cnt += images.shape[0]\n",
    "print('Number of training examples:', cnt)\n",
    "\n",
    "cnt = 0\n",
    "for images, labels in val_loader: \n",
    "    cnt += images.shape[0]\n",
    "print('Number of validation instances:', cnt)\n",
    "\n",
    "cnt = 0\n",
    "for images, labels in test_loader: \n",
    "    cnt += images.shape[0]\n",
    "print('Number of test instances:', cnt)"
   ]
  },
  {
   "cell_type": "markdown",
   "metadata": {
    "colab_type": "text",
    "id": "agDsuvseWUyC"
   },
   "source": [
    "## Model"
   ]
  },
  {
   "cell_type": "markdown",
   "metadata": {
    "colab_type": "text",
    "id": "uhrX9-e0afuK"
   },
   "source": [
    "Note that this is a very simple convolutional network in this notebook, which is not geared to reach best performance on CIFAR-10 but rather to test the implementation of the cyclical learning rate concept."
   ]
  },
  {
   "cell_type": "code",
   "execution_count": 0,
   "metadata": {
    "colab": {},
    "colab_type": "code",
    "id": "luAg0-ncWUyD"
   },
   "outputs": [],
   "source": [
    "##########################\n",
    "### MODEL\n",
    "##########################\n",
    "\n",
    "\n",
    "class ConvNet(torch.nn.Module):\n",
    "\n",
    "    def __init__(self, num_classes):\n",
    "        super(ConvNet, self).__init__()\n",
    "        \n",
    "        # calculate same padding:\n",
    "        # (w - k + 2*p)/s + 1 = o\n",
    "        # => p = (s(o-1) - w + k)/2\n",
    "        \n",
    "        # 32x32x3 => 32x32x6\n",
    "        self.conv_1 = torch.nn.Conv2d(in_channels=3,\n",
    "                                      out_channels=6,\n",
    "                                      kernel_size=(3, 3),\n",
    "                                      stride=(1, 1),\n",
    "                                      padding=1) # (1(32-1) - 32 + 3) / 2) = 1\n",
    "        # 32x32x4 => 16x16x6\n",
    "        self.pool_1 = torch.nn.MaxPool2d(kernel_size=(2, 2),\n",
    "                                         stride=(2, 2),\n",
    "                                         padding=0) # (2(16-1) - 32 + 2) = 0                                       \n",
    "        \n",
    "        \n",
    "        # 16x16x6 => 16x16x12\n",
    "        self.conv_2 = torch.nn.Conv2d(in_channels=6,\n",
    "                                      out_channels=12,\n",
    "                                      kernel_size=(3, 3),\n",
    "                                      stride=(1, 1),\n",
    "                                      padding=1) # (1(16-1) - 16 + 3) / 2 = 1                 \n",
    "        # 16x16x12 => 8x8x12                             \n",
    "        self.pool_2 = torch.nn.MaxPool2d(kernel_size=(2, 2),\n",
    "                                         stride=(2, 2),\n",
    "                                         padding=0) # (2(8-1) - 16 + 2) = 0\n",
    "        \n",
    "        \n",
    "        # 8x8x12 => 8x8x18\n",
    "        self.conv_3 = torch.nn.Conv2d(in_channels=12,\n",
    "                                      out_channels=18,\n",
    "                                      kernel_size=(3, 3),\n",
    "                                      stride=(1, 1),\n",
    "                                      padding=1) # (1(8-1) - 8 + 3) / 2 = 1                 \n",
    "        # 8x8x18 => 4x4x18                             \n",
    "        self.pool_3 = torch.nn.MaxPool2d(kernel_size=(2, 2),\n",
    "                                         stride=(2, 2),\n",
    "                                         padding=0) # (2(4-1) - 8 + 2) = 0\n",
    "        \n",
    "        \n",
    "        # 4x4x18 => 4x4x24\n",
    "        self.conv_4 = torch.nn.Conv2d(in_channels=18,\n",
    "                                      out_channels=24,\n",
    "                                      kernel_size=(3, 3),\n",
    "                                      stride=(1, 1),\n",
    "                                      padding=1)                 \n",
    "        # 4x4x24 => 2x2x24                             \n",
    "        self.pool_4 = torch.nn.MaxPool2d(kernel_size=(2, 2),\n",
    "                                         stride=(2, 2),\n",
    "                                         padding=0)\n",
    "        \n",
    "        \n",
    "        # 2x2x24 => 2x2x30\n",
    "        self.conv_5 = torch.nn.Conv2d(in_channels=24,\n",
    "                                      out_channels=30,\n",
    "                                      kernel_size=(3, 3),\n",
    "                                      stride=(1, 1),\n",
    "                                      padding=1)                 \n",
    "        # 2x2x30 => 1x1x30                             \n",
    "        self.pool_5 = torch.nn.MaxPool2d(kernel_size=(2, 2),\n",
    "                                         stride=(2, 2),\n",
    "                                         padding=0)\n",
    "        \n",
    "        self.linear_1 = torch.nn.Linear(1*1*30, num_classes)\n",
    "\n",
    "        \n",
    "    def forward(self, x):\n",
    "        out = self.conv_1(x)\n",
    "        out = F.relu(out)\n",
    "        out = self.pool_1(out)\n",
    "\n",
    "        out = self.conv_2(out)\n",
    "        out = F.relu(out)\n",
    "        out = self.pool_2(out)\n",
    "        \n",
    "        out = self.conv_3(out)\n",
    "        out = F.relu(out)\n",
    "        out = self.pool_3(out)\n",
    "        \n",
    "        out = self.conv_4(out)\n",
    "        out = F.relu(out)\n",
    "        out = self.pool_4(out)\n",
    "        \n",
    "        out = self.conv_5(out)\n",
    "        out = F.relu(out)\n",
    "        out = self.pool_5(out)\n",
    "        \n",
    "        logits = self.linear_1(out.view(-1, 1*1*30))\n",
    "        probas = F.softmax(logits, dim=1)\n",
    "        return logits, probas"
   ]
  },
  {
   "cell_type": "markdown",
   "metadata": {
    "colab_type": "text",
    "id": "YwLP-0qkWUyF"
   },
   "source": [
    "## LR Range Test"
   ]
  },
  {
   "cell_type": "markdown",
   "metadata": {
    "colab_type": "text",
    "id": "Z_PvKZmYZ12N"
   },
   "source": [
    "The LR range test is a simple heuristic that is also described in Smith's paper. Essentially, it's a quick-and-dirty approach to find good values for the `base_lr` and `max_lr` (hyperparameters of the cyclical learning rate).\n",
    "\n",
    "It works as follows:\n",
    "\n",
    "We run the training for 5-10 epochs and increase the learning rate linearly up to an upper bound. We select the cut-off where the (train or validation) accuracy starts improving as the base_lr for the cyclical learning rate. The max_lr for the cyclical learning rate is determined in a similar manner, by choosing the cut-off value where the accuracy improvements stop, decrease, or widely fluctuate.\n",
    "\n",
    "Note that we can use the `cyclical_learning_rate` function to compute the learning rates for the increasing interval by setting `step_size=num_epochs*iter_per_ep`:"
   ]
  },
  {
   "cell_type": "code",
   "execution_count": 0,
   "metadata": {
    "colab": {
     "base_uri": "https://localhost:8080/",
     "height": 269
    },
    "colab_type": "code",
    "id": "Giqvby2abkA8",
    "outputId": "28a54819-ca46-4f90-e3aa-058a01017778"
   },
   "outputs": [
    {
     "data": {
      "image/png": "[encoded data removed]",
      "text/plain": [
       "<matplotlib.figure.Figure at 0x7f5dff497278>"
      ]
     },
     "metadata": {
      "tags": []
     },
     "output_type": "display_data"
    }
   ],
   "source": [
    "num_epochs = 10\n",
    "\n",
    "batch_step = -1\n",
    "collect_lr = []\n",
    "for e in range(num_epochs):\n",
    "    for i in range(iter_per_ep):\n",
    "        batch_step += 1\n",
    "        cur_lr = cyclical_learning_rate(batch_step=batch_step,\n",
    "                                        step_size=num_epochs*iter_per_ep)\n",
    "        \n",
    "        collect_lr.append(cur_lr)\n",
    "        \n",
    "plt.scatter(range(len(collect_lr)), collect_lr)\n",
    "plt.ylim([0.0, 0.01])\n",
    "plt.xlim([0, num_epochs*iter_per_ep + 5000])\n",
    "plt.show()"
   ]
  },
  {
   "cell_type": "markdown",
   "metadata": {
    "colab_type": "text",
    "id": "VUEUn70QWUyG"
   },
   "source": [
    "**Utility Functions**"
   ]
  },
  {
   "cell_type": "code",
   "execution_count": 0,
   "metadata": {
    "colab": {},
    "colab_type": "code",
    "id": "cQ46iEStWUyG"
   },
   "outputs": [],
   "source": [
    "def compute_accuracy(model, data_loader):\n",
    "    correct_pred, num_examples = 0, 0\n",
    "    for features, targets in data_loader:\n",
    "        features = features.to(device)\n",
    "        targets = targets.to(device)\n",
    "        logits, probas = model(features)\n",
    "        _, predicted_labels = torch.max(probas, 1)\n",
    "        num_examples += targets.size(0)\n",
    "        correct_pred += (predicted_labels == targets).sum()\n",
    "    return correct_pred.float()/num_examples * 100"
   ]
  },
  {
   "cell_type": "markdown",
   "metadata": {
    "colab_type": "text",
    "id": "QL7DF29vWUyK"
   },
   "source": [
    "**Train Model/Run LR Range Test**"
   ]
  },
  {
   "cell_type": "code",
   "execution_count": 0,
   "metadata": {
    "colab": {
     "base_uri": "https://localhost:8080/",
     "height": 357
    },
    "colab_type": "code",
    "id": "WI-NY9u4WUyL",
    "outputId": "f323a1d5-0c7b-442d-8b7c-131c821b1cab"
   },
   "outputs": [
    {
     "name": "stdout",
     "output_type": "stream",
     "text": [
      "Total batch #     0/3820   Curr. Batch Cost: 2.31266\n",
      "Total batch #   200/3820   Curr. Batch Cost: 2.30711\n",
      "Total batch #   400/3820   Curr. Batch Cost: 2.30392\n",
      "Total batch #   600/3820   Curr. Batch Cost: 2.30356\n",
      "Total batch #   800/3820   Curr. Batch Cost: 2.30203\n",
      "Total batch #  1000/3820   Curr. Batch Cost: 2.30223\n",
      "Total batch #  1200/3820   Curr. Batch Cost: 2.30101\n",
      "Total batch #  1400/3820   Curr. Batch Cost: 2.30153\n",
      "Total batch #  1600/3820   Curr. Batch Cost: 2.25885\n",
      "Total batch #  1800/3820   Curr. Batch Cost: 2.17799\n",
      "Total batch #  2000/3820   Curr. Batch Cost: 2.01709\n",
      "Total batch #  2200/3820   Curr. Batch Cost: 1.94690\n",
      "Total batch #  2400/3820   Curr. Batch Cost: 1.63447\n",
      "Total batch #  2600/3820   Curr. Batch Cost: 1.73498\n",
      "Total batch #  2800/3820   Curr. Batch Cost: 1.50548\n",
      "Total batch #  3000/3820   Curr. Batch Cost: 1.58736\n",
      "Total batch #  3200/3820   Curr. Batch Cost: 1.40857\n",
      "Total batch #  3400/3820   Curr. Batch Cost: 1.59693\n",
      "Total batch #  3600/3820   Curr. Batch Cost: 1.59561\n",
      "Total batch #  3800/3820   Curr. Batch Cost: 1.61798\n"
     ]
    }
   ],
   "source": [
    "#################################\n",
    "### Setting for this run\n",
    "#################################\n",
    "\n",
    "num_epochs = 10\n",
    "iter_per_ep = len(train_loader.sampler.indices) // train_loader.batch_size\n",
    "base_lr = 0.01\n",
    "max_lr = 0.2\n",
    "\n",
    "#################################\n",
    "### Init Model\n",
    "#################################\n",
    "\n",
    "torch.manual_seed(random_seed)\n",
    "model = ConvNet(num_classes=num_classes)\n",
    "model = model.to(device)\n",
    "\n",
    "##########################\n",
    "### COST AND OPTIMIZER\n",
    "##########################\n",
    "\n",
    "cost_fn = torch.nn.CrossEntropyLoss()  \n",
    "optimizer = torch.optim.SGD(model.parameters(), lr=base_lr)  \n",
    "\n",
    "########################################################################\n",
    "# Collect the data to be evaluated via the LR Range Test\n",
    "collect = {'lr': [], 'cost': [], 'train_batch_acc': [], 'val_acc': []}\n",
    "########################################################################\n",
    "\n",
    "\n",
    "batch_step = -1\n",
    "cur_lr = base_lr\n",
    "for epoch in range(num_epochs):\n",
    "    for batch_idx, (features, targets) in enumerate(train_loader):\n",
    "        \n",
    "        batch_step += 1\n",
    "        features = features.to(device)\n",
    "        targets = targets.to(device)\n",
    "\n",
    "        ### FORWARD AND BACK PROP\n",
    "        logits, probas = model(features)\n",
    "        cost = cost_fn(logits, targets)\n",
    "        optimizer.zero_grad()\n",
    "\n",
    "        cost.backward()\n",
    "\n",
    "        ### UPDATE MODEL PARAMETERS\n",
    "        optimizer.step()\n",
    "        \n",
    "        #############################################\n",
    "        # Logging\n",
    "        if not batch_step % 200:\n",
    "            print('Total batch # %5d/%d' % (batch_step, \n",
    "                                            iter_per_ep*num_epochs), \n",
    "                  end='')\n",
    "            print('   Curr. Batch Cost: %.5f' % cost)     \n",
    "\n",
    "        #############################################\n",
    "        # Collect stats    \n",
    "        model = model.eval()\n",
    "        train_acc = compute_accuracy(model, [[features, targets]])\n",
    "        val_acc = compute_accuracy(model, val_loader)\n",
    "        collect['lr'].append(cur_lr)\n",
    "        collect['train_batch_acc'].append(train_acc)\n",
    "        collect['val_acc'].append(val_acc)\n",
    "        collect['cost'].append(cost)\n",
    "        model = model.train()\n",
    "        #############################################\n",
    "        # update learning rate\n",
    "        cur_lr = cyclical_learning_rate(batch_step=batch_step,\n",
    "                                        step_size=num_epochs*iter_per_ep,\n",
    "                                        base_lr=base_lr,\n",
    "                                        max_lr=max_lr)\n",
    "        for g in optimizer.param_groups:\n",
    "            g['lr'] = cur_lr\n",
    "        ############################################"
   ]
  },
  {
   "cell_type": "code",
   "execution_count": 0,
   "metadata": {
    "colab": {
     "base_uri": "https://localhost:8080/",
     "height": 541
    },
    "colab_type": "code",
    "id": "_hOJ7z1-WUyN",
    "outputId": "148987b0-093b-4f22-a3b4-acd4cb9bddee"
   },
   "outputs": [
    {
     "data": {
      "image/png": "[encoded data removed]",
      "text/plain": [
       "<matplotlib.figure.Figure at 0x7f5dfd38a390>"
      ]
     },
     "metadata": {
      "tags": []
     },
     "output_type": "display_data"
    },
    {
     "data": {
      "image/png": "[encoded data removed]",
      "text/plain": [
       "<matplotlib.figure.Figure at 0x7f5dfca3a2e8>"
      ]
     },
     "metadata": {
      "tags": []
     },
     "output_type": "display_data"
    }
   ],
   "source": [
    "plt.plot(collect['lr'], collect['train_batch_acc'], label='train_batch_acc')\n",
    "plt.plot(collect['lr'], collect['val_acc'], label='val_acc')\n",
    "plt.xlabel('Learning Rate')\n",
    "plt.ylabel('Accuracy')\n",
    "plt.legend()\n",
    "plt.show()\n",
    "\n",
    "\n",
    "plt.plot(collect['lr'], collect['cost'])\n",
    "plt.xlabel('Learning Rate')\n",
    "plt.ylabel('Current Batch Cost')\n",
    "plt.show()"
   ]
  },
  {
   "cell_type": "markdown",
   "metadata": {
    "colab_type": "text",
    "id": "d07DrlrjOHzC"
   },
   "source": [
    "Looking at the graphs above, in particular the validation accuracy, it's not immediately obvious to find the 2 points:\n",
    "\n",
    "1. Where the accuracy starts increasing\n",
    "2. Where the accuracy starts dropping or ceases to improve\n",
    "\n",
    "However, point 1) may be at 0.08-0.09, and point 2) may be at 0.175 or even 0.2 (or even beyond that, if we would keep increasing the learning rate).\n",
    "\n",
    "\n",
    "Also note that this heuristic is less \"clean\" as starting the epoch from scratch with each incremental learning rate change, which adds addtional noise to the interpretation (including questions like \"by how much did the cost drop/accuracy improve just because of going downhill on the cost surface and the gradients becoming smaller?\")"
   ]
  },
  {
   "cell_type": "markdown",
   "metadata": {
    "colab_type": "text",
    "id": "KcZ2vv8foEcP"
   },
   "source": [
    "## Train with Cyclical Learning Rate (`triangular`)"
   ]
  },
  {
   "cell_type": "markdown",
   "metadata": {
    "colab_type": "text",
    "id": "FvnNfSIfPiw4"
   },
   "source": [
    "Below, the triangular (default) cyclical learning rate training procedure is run with a `base_lr=0.09` and `max_lr=0.175`. Based on the LR Range Tests graphs above, a `max_lr` >= 0.2 may even be reasonable. However, in practice (based on my experience and some trial runs with these settings), such large learning rates would increase  convergence problems using a vanilla SGD optimizer (as it is done here). "
   ]
  },
  {
   "cell_type": "code",
   "execution_count": 0,
   "metadata": {
    "colab": {
     "base_uri": "https://localhost:8080/",
     "height": 2567
    },
    "colab_type": "code",
    "id": "W_MyHO0HoIz8",
    "outputId": "ace8f950-c37b-49a7-98ff-7849185d6892"
   },
   "outputs": [
    {
     "name": "stdout",
     "output_type": "stream",
     "text": [
      "Epoch   1  |  Train/Valid Acc: 10.09/11.50\n",
      "Epoch   2  |  Train/Valid Acc: 11.58/11.80\n",
      "Epoch   3  |  Train/Valid Acc: 25.46/23.40\n",
      "Epoch   4  |  Train/Valid Acc: 23.22/25.00\n",
      "Epoch   5  |  Train/Valid Acc: 38.93/38.00\n",
      "Epoch   6  |  Train/Valid Acc: 41.49/40.00\n",
      "Epoch   7  |  Train/Valid Acc: 39.71/35.80\n",
      "Epoch   8  |  Train/Valid Acc: 44.34/42.80\n",
      "Epoch   9  |  Train/Valid Acc: 50.06/49.60\n",
      "Epoch  10  |  Train/Valid Acc: 50.94/49.60\n",
      "Epoch  11  |  Train/Valid Acc: 52.94/52.30\n",
      "Epoch  12  |  Train/Valid Acc: 52.46/51.70\n",
      "Epoch  13  |  Train/Valid Acc: 53.39/53.40\n",
      "Epoch  14  |  Train/Valid Acc: 53.25/50.30\n",
      "Epoch  15  |  Train/Valid Acc: 56.96/54.60\n",
      "Epoch  16  |  Train/Valid Acc: 54.70/52.10\n",
      "Epoch  17  |  Train/Valid Acc: 56.33/52.30\n",
      "Epoch  18  |  Train/Valid Acc: 56.30/52.40\n",
      "Epoch  19  |  Train/Valid Acc: 59.31/55.60\n",
      "Epoch  20  |  Train/Valid Acc: 58.30/54.00\n",
      "Epoch  21  |  Train/Valid Acc: 60.80/57.20\n",
      "Epoch  22  |  Train/Valid Acc: 58.80/56.30\n",
      "Epoch  23  |  Train/Valid Acc: 62.28/56.30\n",
      "Epoch  24  |  Train/Valid Acc: 61.42/56.10\n",
      "Epoch  25  |  Train/Valid Acc: 61.56/57.30\n",
      "Epoch  26  |  Train/Valid Acc: 61.95/58.00\n",
      "Epoch  27  |  Train/Valid Acc: 61.60/58.30\n",
      "Epoch  28  |  Train/Valid Acc: 60.60/56.40\n",
      "Epoch  29  |  Train/Valid Acc: 61.43/58.80\n",
      "Epoch  30  |  Train/Valid Acc: 59.20/57.30\n",
      "Epoch  31  |  Train/Valid Acc: 61.47/58.80\n",
      "Epoch  32  |  Train/Valid Acc: 57.09/54.30\n",
      "Epoch  33  |  Train/Valid Acc: 64.64/58.30\n",
      "Epoch  34  |  Train/Valid Acc: 55.66/52.00\n",
      "Epoch  35  |  Train/Valid Acc: 57.00/52.00\n",
      "Epoch  36  |  Train/Valid Acc: 62.70/58.90\n",
      "Epoch  37  |  Train/Valid Acc: 50.90/48.70\n",
      "Epoch  38  |  Train/Valid Acc: 59.31/54.30\n",
      "Epoch  39  |  Train/Valid Acc: 65.13/60.00\n",
      "Epoch  40  |  Train/Valid Acc: 60.99/54.80\n",
      "Epoch  41  |  Train/Valid Acc: 63.67/56.60\n",
      "Epoch  42  |  Train/Valid Acc: 66.68/60.90\n",
      "Epoch  43  |  Train/Valid Acc: 63.90/57.20\n",
      "Epoch  44  |  Train/Valid Acc: 63.75/58.00\n",
      "Epoch  45  |  Train/Valid Acc: 66.46/59.70\n",
      "Epoch  46  |  Train/Valid Acc: 65.53/60.00\n",
      "Epoch  47  |  Train/Valid Acc: 66.75/60.30\n",
      "Epoch  48  |  Train/Valid Acc: 65.98/59.10\n",
      "Epoch  49  |  Train/Valid Acc: 65.86/59.20\n",
      "Epoch  50  |  Train/Valid Acc: 66.14/60.30\n",
      "Epoch  51  |  Train/Valid Acc: 66.45/61.10\n",
      "Epoch  52  |  Train/Valid Acc: 66.16/58.20\n",
      "Epoch  53  |  Train/Valid Acc: 65.38/59.20\n",
      "Epoch  54  |  Train/Valid Acc: 65.75/59.00\n",
      "Epoch  55  |  Train/Valid Acc: 67.16/60.20\n",
      "Epoch  56  |  Train/Valid Acc: 65.93/59.10\n",
      "Epoch  57  |  Train/Valid Acc: 67.34/60.70\n",
      "Epoch  58  |  Train/Valid Acc: 67.82/61.40\n",
      "Epoch  59  |  Train/Valid Acc: 58.86/55.00\n",
      "Epoch  60  |  Train/Valid Acc: 67.48/60.30\n",
      "Epoch  61  |  Train/Valid Acc: 65.85/59.80\n",
      "Epoch  62  |  Train/Valid Acc: 66.12/59.90\n",
      "Epoch  63  |  Train/Valid Acc: 66.42/58.90\n",
      "Epoch  64  |  Train/Valid Acc: 64.31/58.90\n",
      "Epoch  65  |  Train/Valid Acc: 66.44/58.20\n",
      "Epoch  66  |  Train/Valid Acc: 64.58/57.40\n",
      "Epoch  67  |  Train/Valid Acc: 68.66/61.90\n",
      "Epoch  68  |  Train/Valid Acc: 66.31/59.80\n",
      "Epoch  69  |  Train/Valid Acc: 63.31/58.10\n",
      "Epoch  70  |  Train/Valid Acc: 60.72/54.90\n",
      "Epoch  71  |  Train/Valid Acc: 68.81/63.00\n",
      "Epoch  72  |  Train/Valid Acc: 68.65/62.40\n",
      "Epoch  73  |  Train/Valid Acc: 68.16/60.70\n",
      "Epoch  74  |  Train/Valid Acc: 66.86/60.30\n",
      "Epoch  75  |  Train/Valid Acc: 64.50/59.20\n",
      "Epoch  76  |  Train/Valid Acc: 60.20/55.70\n",
      "Epoch  77  |  Train/Valid Acc: 66.78/58.90\n",
      "Epoch  78  |  Train/Valid Acc: 66.91/61.40\n",
      "Epoch  79  |  Train/Valid Acc: 67.00/62.30\n",
      "Epoch  80  |  Train/Valid Acc: 67.81/61.50\n",
      "Epoch  81  |  Train/Valid Acc: 66.36/59.50\n",
      "Epoch  82  |  Train/Valid Acc: 65.91/61.10\n",
      "Epoch  83  |  Train/Valid Acc: 66.37/61.00\n",
      "Epoch  84  |  Train/Valid Acc: 69.71/62.80\n",
      "Epoch  85  |  Train/Valid Acc: 66.90/60.70\n",
      "Epoch  86  |  Train/Valid Acc: 67.88/61.60\n",
      "Epoch  87  |  Train/Valid Acc: 69.57/61.00\n",
      "Epoch  88  |  Train/Valid Acc: 64.10/60.50\n",
      "Epoch  89  |  Train/Valid Acc: 67.28/60.20\n",
      "Epoch  90  |  Train/Valid Acc: 68.28/59.10\n",
      "Epoch  91  |  Train/Valid Acc: 68.11/61.90\n",
      "Epoch  92  |  Train/Valid Acc: 67.86/61.10\n",
      "Epoch  93  |  Train/Valid Acc: 67.07/60.10\n",
      "Epoch  94  |  Train/Valid Acc: 70.74/60.90\n",
      "Epoch  95  |  Train/Valid Acc: 68.37/61.60\n",
      "Epoch  96  |  Train/Valid Acc: 66.55/59.90\n",
      "Epoch  97  |  Train/Valid Acc: 61.09/54.50\n",
      "Epoch  98  |  Train/Valid Acc: 62.62/59.70\n",
      "Epoch  99  |  Train/Valid Acc: 68.98/62.60\n",
      "Epoch 100  |  Train/Valid Acc: 67.98/62.30\n",
      "Epoch 101  |  Train/Valid Acc: 68.94/62.70\n",
      "Epoch 102  |  Train/Valid Acc: 66.84/58.40\n",
      "Epoch 103  |  Train/Valid Acc: 66.44/58.10\n",
      "Epoch 104  |  Train/Valid Acc: 67.96/60.00\n",
      "Epoch 105  |  Train/Valid Acc: 68.05/61.80\n",
      "Epoch 106  |  Train/Valid Acc: 65.38/59.90\n",
      "Epoch 107  |  Train/Valid Acc: 69.89/63.50\n",
      "Epoch 108  |  Train/Valid Acc: 64.66/57.50\n",
      "Epoch 109  |  Train/Valid Acc: 69.65/62.10\n",
      "Epoch 110  |  Train/Valid Acc: 64.53/59.70\n",
      "Epoch 111  |  Train/Valid Acc: 67.39/60.70\n",
      "Epoch 112  |  Train/Valid Acc: 64.83/57.10\n",
      "Epoch 113  |  Train/Valid Acc: 68.38/62.60\n",
      "Epoch 114  |  Train/Valid Acc: 69.40/61.30\n",
      "Epoch 115  |  Train/Valid Acc: 69.02/60.30\n",
      "Epoch 116  |  Train/Valid Acc: 67.17/61.20\n",
      "Epoch 117  |  Train/Valid Acc: 67.46/59.40\n",
      "Epoch 118  |  Train/Valid Acc: 68.77/62.90\n",
      "Epoch 119  |  Train/Valid Acc: 68.17/61.70\n",
      "Epoch 120  |  Train/Valid Acc: 63.90/60.20\n",
      "Epoch 121  |  Train/Valid Acc: 68.58/61.20\n",
      "Epoch 122  |  Train/Valid Acc: 70.33/63.00\n",
      "Epoch 123  |  Train/Valid Acc: 68.21/60.30\n",
      "Epoch 124  |  Train/Valid Acc: 69.97/61.90\n",
      "Epoch 125  |  Train/Valid Acc: 67.68/61.50\n",
      "Epoch 126  |  Train/Valid Acc: 70.23/62.00\n",
      "Epoch 127  |  Train/Valid Acc: 70.49/60.30\n",
      "Epoch 128  |  Train/Valid Acc: 66.93/60.70\n",
      "Epoch 129  |  Train/Valid Acc: 70.02/60.40\n",
      "Epoch 130  |  Train/Valid Acc: 67.52/61.60\n",
      "Epoch 131  |  Train/Valid Acc: 68.27/61.40\n",
      "Epoch 132  |  Train/Valid Acc: 70.29/65.50\n",
      "Epoch 133  |  Train/Valid Acc: 71.39/63.50\n",
      "Epoch 134  |  Train/Valid Acc: 68.39/58.70\n",
      "Epoch 135  |  Train/Valid Acc: 67.60/61.80\n",
      "Epoch 136  |  Train/Valid Acc: 67.44/60.00\n",
      "Epoch 137  |  Train/Valid Acc: 70.52/64.00\n",
      "Epoch 138  |  Train/Valid Acc: 68.45/61.70\n",
      "Epoch 139  |  Train/Valid Acc: 68.47/61.80\n",
      "Epoch 140  |  Train/Valid Acc: 70.00/62.80\n",
      "Epoch 141  |  Train/Valid Acc: 66.63/59.10\n",
      "Epoch 142  |  Train/Valid Acc: 66.76/59.90\n",
      "Epoch 143  |  Train/Valid Acc: 70.43/61.40\n",
      "Epoch 144  |  Train/Valid Acc: 67.91/60.80\n",
      "Epoch 145  |  Train/Valid Acc: 66.35/59.10\n",
      "Epoch 146  |  Train/Valid Acc: 66.81/59.50\n",
      "Epoch 147  |  Train/Valid Acc: 65.81/59.50\n",
      "Epoch 148  |  Train/Valid Acc: 68.91/60.50\n",
      "Epoch 149  |  Train/Valid Acc: 69.33/62.30\n",
      "Epoch 150  |  Train/Valid Acc: 68.87/59.10\n"
     ]
    }
   ],
   "source": [
    "#################################\n",
    "### Setting for this run\n",
    "#################################\n",
    "\n",
    "num_epochs = 150\n",
    "iter_per_ep = len(train_loader.sampler.indices) // train_loader.batch_size\n",
    "base_lr = 0.09\n",
    "max_lr = 0.175\n",
    "\n",
    "#################################\n",
    "### Init Model\n",
    "#################################\n",
    "\n",
    "torch.manual_seed(random_seed)\n",
    "model = ConvNet(num_classes=num_classes)\n",
    "model = model.to(device)\n",
    "\n",
    "##########################\n",
    "### COST AND OPTIMIZER\n",
    "##########################\n",
    "\n",
    "cost_fn = torch.nn.CrossEntropyLoss()  \n",
    "optimizer = torch.optim.SGD(model.parameters(), lr=base_lr)  \n",
    "\n",
    "########################################################################\n",
    "# Collect the data to be evaluated via the LR Range Test\n",
    "collect = {'epoch': [], 'cost': [], 'train_acc': [], 'val_acc': []}\n",
    "########################################################################\n",
    "\n",
    "\n",
    "for epoch in range(num_epochs):\n",
    "    epoch_avg_cost = 0.\n",
    "    model = model.train()\n",
    "    for batch_idx, (features, targets) in enumerate(train_loader):\n",
    "        \n",
    "        features = features.to(device)\n",
    "        targets = targets.to(device)\n",
    "\n",
    "        ### FORWARD AND BACK PROP\n",
    "        logits, probas = model(features)\n",
    "        cost = cost_fn(logits, targets)\n",
    "        optimizer.zero_grad()\n",
    "\n",
    "        cost.backward()\n",
    "\n",
    "        ### UPDATE MODEL PARAMETERS\n",
    "        optimizer.step()\n",
    "\n",
    "        epoch_avg_cost += cost\n",
    "        \n",
    "        #############################################\n",
    "        # Logging\n",
    "        if not batch_step % 600:\n",
    "            print('Batch %5d/%d' % (batch_step, iter_per_ep*num_epochs),\n",
    "                                    end='')\n",
    "            print('   Cost: %.5f' % cost)     \n",
    "\n",
    "\n",
    "    #############################################\n",
    "    # Collect stats    \n",
    "    model = model.eval()\n",
    "    train_acc = compute_accuracy(model, train_loader)\n",
    "    val_acc = compute_accuracy(model, val_loader)\n",
    "    epoch_avg_cost /= batch_idx+1\n",
    "    collect['epoch'].append(epoch+1)\n",
    "    collect['val_acc'].append(val_acc)\n",
    "    collect['train_acc'].append(train_acc)\n",
    "    collect['cost'].append(epoch_avg_cost / iter_per_ep)\n",
    "    \n",
    "    ################################################\n",
    "    # Logging\n",
    "    print('Epoch %3d' % (epoch+1), end='')\n",
    "    print('  |  Train/Valid Acc: %.2f/%.2f' % (train_acc, val_acc))\n",
    "    \n",
    "    \n",
    "    #############################################\n",
    "    # update learning rate\n",
    "    base_lr = cyclical_learning_rate(batch_step=batch_step,\n",
    "                                     step_size=num_epochs*iter_per_ep,\n",
    "                                     base_lr=base_lr,\n",
    "                                     max_lr=max_lr)\n",
    "    for g in optimizer.param_groups:\n",
    "        g['lr'] = base_lr\n",
    "    ############################################"
   ]
  },
  {
   "cell_type": "code",
   "execution_count": 0,
   "metadata": {
    "colab": {
     "base_uri": "https://localhost:8080/",
     "height": 541
    },
    "colab_type": "code",
    "id": "P_3X9h9CrQwD",
    "outputId": "011badf6-a190-4880-8377-eaa5ded3f199"
   },
   "outputs": [
    {
     "data": {
      "image/png": "[encoded data removed]",
      "text/plain": [
       "<matplotlib.figure.Figure at 0x7f5dfd31cba8>"
      ]
     },
     "metadata": {
      "tags": []
     },
     "output_type": "display_data"
    },
    {
     "data": {
      "image/png": "[encoded data removed]",
      "text/plain": [
       "<matplotlib.figure.Figure at 0x7f5db0cd4fd0>"
      ]
     },
     "metadata": {
      "tags": []
     },
     "output_type": "display_data"
    }
   ],
   "source": [
    "plt.plot(collect['epoch'], collect['train_acc'], label='train_acc')\n",
    "plt.plot(collect['epoch'], collect['val_acc'], label='val_acc')\n",
    "plt.xlabel('Epoch')\n",
    "plt.ylabel('Accuracy')\n",
    "plt.legend()\n",
    "plt.show()\n",
    "\n",
    "\n",
    "plt.plot(collect['epoch'], collect['cost'])\n",
    "plt.xlabel('Epoch')\n",
    "plt.ylabel('Avg. Cost Per Epoch')\n",
    "plt.show()"
   ]
  },
  {
   "cell_type": "code",
   "execution_count": 0,
   "metadata": {
    "colab": {
     "base_uri": "https://localhost:8080/",
     "height": 34
    },
    "colab_type": "code",
    "id": "-28cbD9hKp56",
    "outputId": "93d97e13-00a0-4f1f-b98b-66ca33f276f2"
   },
   "outputs": [
    {
     "name": "stdout",
     "output_type": "stream",
     "text": [
      "Test accuracy: 60.74%\n"
     ]
    }
   ],
   "source": [
    "print('Test accuracy: %.2f%%' % (compute_accuracy(model, test_loader)))"
   ]
  },
  {
   "cell_type": "markdown",
   "metadata": {
    "colab_type": "text",
    "id": "kTtRXkn5daq7"
   },
   "source": [
    "## Train with Cyclical Learning Rate (`triangular2`)"
   ]
  },
  {
   "cell_type": "code",
   "execution_count": 0,
   "metadata": {
    "colab": {
     "base_uri": "https://localhost:8080/",
     "height": 3091
    },
    "colab_type": "code",
    "id": "zS-lrQx3QYAH",
    "outputId": "3640920f-82ac-4489-b52e-15616bb442fd"
   },
   "outputs": [
    {
     "name": "stdout",
     "output_type": "stream",
     "text": [
      "Epoch   1  |  Train/Valid Acc: 10.09/11.50\n",
      "Epoch   2  |  Train/Valid Acc: 11.57/11.90\n",
      "Epoch   3  |  Train/Valid Acc: 25.86/23.90\n",
      "Epoch   4  |  Train/Valid Acc: 27.48/29.40\n",
      "Epoch   5  |  Train/Valid Acc: 39.77/39.00\n",
      "Epoch   6  |  Train/Valid Acc: 40.88/37.90\n",
      "Epoch   7  |  Train/Valid Acc: 39.27/35.90\n",
      "Epoch   8  |  Train/Valid Acc: 45.63/42.90\n",
      "Epoch   9  |  Train/Valid Acc: 49.74/48.20\n",
      "Epoch  10  |  Train/Valid Acc: 49.91/48.20\n",
      "Epoch  11  |  Train/Valid Acc: 52.43/49.60\n",
      "Epoch  12  |  Train/Valid Acc: 51.98/49.30\n",
      "Epoch  13  |  Train/Valid Acc: 55.04/53.10\n",
      "Epoch  14  |  Train/Valid Acc: 51.02/49.50\n",
      "Epoch  15  |  Train/Valid Acc: 56.82/53.80\n",
      "Epoch  16  |  Train/Valid Acc: 58.95/54.50\n",
      "Epoch  17  |  Train/Valid Acc: 55.30/53.70\n",
      "Epoch  18  |  Train/Valid Acc: 59.15/53.90\n",
      "Epoch  19  |  Train/Valid Acc: 60.19/58.10\n",
      "Epoch  20  |  Train/Valid Acc: 61.53/58.10\n",
      "Epoch  21  |  Train/Valid Acc: 58.87/54.90\n",
      "Epoch  22  |  Train/Valid Acc: 56.68/53.70\n",
      "Epoch  23  |  Train/Valid Acc: 61.61/58.70\n",
      "Epoch  24  |  Train/Valid Acc: 62.00/57.80\n",
      "Epoch  25  |  Train/Valid Acc: 61.11/56.30\n",
      "Epoch  26  |  Train/Valid Acc: 55.28/50.90\n",
      "Epoch  27  |  Train/Valid Acc: 61.42/58.30\n",
      "Epoch  28  |  Train/Valid Acc: 58.44/54.90\n",
      "Epoch  29  |  Train/Valid Acc: 60.06/57.60\n",
      "Epoch  30  |  Train/Valid Acc: 65.48/60.10\n",
      "Epoch  31  |  Train/Valid Acc: 59.64/55.90\n",
      "Epoch  32  |  Train/Valid Acc: 61.77/55.60\n",
      "Epoch  33  |  Train/Valid Acc: 63.54/58.30\n",
      "Epoch  34  |  Train/Valid Acc: 56.15/52.40\n",
      "Epoch  35  |  Train/Valid Acc: 62.84/57.60\n",
      "Epoch  36  |  Train/Valid Acc: 65.35/60.40\n",
      "Epoch  37  |  Train/Valid Acc: 65.76/62.10\n",
      "Epoch  38  |  Train/Valid Acc: 64.87/61.20\n",
      "Epoch  39  |  Train/Valid Acc: 62.37/56.10\n",
      "Epoch  40  |  Train/Valid Acc: 64.66/58.90\n",
      "Epoch  41  |  Train/Valid Acc: 65.00/58.40\n",
      "Epoch  42  |  Train/Valid Acc: 67.33/60.70\n",
      "Epoch  43  |  Train/Valid Acc: 62.48/58.80\n",
      "Epoch  44  |  Train/Valid Acc: 66.37/59.00\n",
      "Epoch  45  |  Train/Valid Acc: 64.91/58.80\n",
      "Epoch  46  |  Train/Valid Acc: 66.21/60.20\n",
      "Epoch  47  |  Train/Valid Acc: 68.16/62.20\n",
      "Epoch  48  |  Train/Valid Acc: 66.01/60.30\n",
      "Epoch  49  |  Train/Valid Acc: 65.07/60.10\n",
      "Epoch  50  |  Train/Valid Acc: 67.24/61.90\n",
      "Epoch  51  |  Train/Valid Acc: 64.17/59.00\n",
      "Epoch  52  |  Train/Valid Acc: 62.65/56.30\n",
      "Epoch  53  |  Train/Valid Acc: 68.38/60.40\n",
      "Epoch  54  |  Train/Valid Acc: 68.28/59.70\n",
      "Epoch  55  |  Train/Valid Acc: 69.28/62.80\n",
      "Epoch  56  |  Train/Valid Acc: 65.27/57.90\n",
      "Epoch  57  |  Train/Valid Acc: 65.59/60.00\n",
      "Epoch  58  |  Train/Valid Acc: 65.13/57.50\n",
      "Epoch  59  |  Train/Valid Acc: 66.42/61.00\n",
      "Epoch  60  |  Train/Valid Acc: 66.16/62.60\n",
      "Epoch  61  |  Train/Valid Acc: 70.22/61.50\n",
      "Epoch  62  |  Train/Valid Acc: 67.24/60.70\n",
      "Epoch  63  |  Train/Valid Acc: 66.39/58.60\n",
      "Epoch  64  |  Train/Valid Acc: 65.87/60.70\n",
      "Epoch  65  |  Train/Valid Acc: 69.18/59.90\n",
      "Epoch  66  |  Train/Valid Acc: 66.56/60.30\n",
      "Epoch  67  |  Train/Valid Acc: 68.64/62.10\n",
      "Epoch  68  |  Train/Valid Acc: 69.63/61.80\n",
      "Epoch  69  |  Train/Valid Acc: 64.09/56.30\n",
      "Epoch  70  |  Train/Valid Acc: 64.88/60.60\n",
      "Epoch  71  |  Train/Valid Acc: 67.34/61.70\n",
      "Epoch  72  |  Train/Valid Acc: 70.08/64.00\n",
      "Epoch  73  |  Train/Valid Acc: 69.78/62.70\n",
      "Epoch  74  |  Train/Valid Acc: 69.35/58.80\n",
      "Epoch  75  |  Train/Valid Acc: 70.88/64.30\n",
      "Epoch  76  |  Train/Valid Acc: 69.03/63.60\n",
      "Epoch  77  |  Train/Valid Acc: 70.23/60.20\n",
      "Epoch  78  |  Train/Valid Acc: 67.37/59.10\n",
      "Epoch  79  |  Train/Valid Acc: 69.73/61.00\n",
      "Epoch  80  |  Train/Valid Acc: 66.59/60.60\n",
      "Epoch  81  |  Train/Valid Acc: 69.89/62.50\n",
      "Epoch  82  |  Train/Valid Acc: 69.76/62.30\n",
      "Epoch  83  |  Train/Valid Acc: 70.16/62.20\n",
      "Epoch  84  |  Train/Valid Acc: 68.20/62.10\n",
      "Epoch  85  |  Train/Valid Acc: 67.07/60.70\n",
      "Epoch  86  |  Train/Valid Acc: 67.41/61.20\n",
      "Epoch  87  |  Train/Valid Acc: 68.83/61.30\n",
      "Epoch  88  |  Train/Valid Acc: 67.21/62.00\n",
      "Epoch  89  |  Train/Valid Acc: 64.09/56.20\n",
      "Epoch  90  |  Train/Valid Acc: 67.35/62.00\n",
      "Epoch  91  |  Train/Valid Acc: 69.11/61.00\n",
      "Epoch  92  |  Train/Valid Acc: 70.19/63.20\n",
      "Epoch  93  |  Train/Valid Acc: 71.32/61.60\n",
      "Epoch  94  |  Train/Valid Acc: 67.16/60.80\n",
      "Epoch  95  |  Train/Valid Acc: 70.04/63.90\n",
      "Epoch  96  |  Train/Valid Acc: 69.47/63.60\n",
      "Epoch  97  |  Train/Valid Acc: 70.25/61.40\n",
      "Epoch  98  |  Train/Valid Acc: 68.50/60.00\n",
      "Epoch  99  |  Train/Valid Acc: 68.81/61.50\n",
      "Epoch 100  |  Train/Valid Acc: 68.15/58.00\n",
      "Epoch 101  |  Train/Valid Acc: 70.24/63.90\n",
      "Epoch 102  |  Train/Valid Acc: 69.19/63.00\n",
      "Epoch 103  |  Train/Valid Acc: 70.09/60.70\n",
      "Epoch 104  |  Train/Valid Acc: 69.08/60.10\n",
      "Epoch 105  |  Train/Valid Acc: 67.38/59.90\n",
      "Epoch 106  |  Train/Valid Acc: 69.70/62.60\n",
      "Epoch 107  |  Train/Valid Acc: 69.73/62.00\n",
      "Epoch 108  |  Train/Valid Acc: 69.47/63.00\n",
      "Epoch 109  |  Train/Valid Acc: 71.50/62.70\n",
      "Epoch 110  |  Train/Valid Acc: 69.36/63.90\n",
      "Epoch 111  |  Train/Valid Acc: 71.59/63.70\n",
      "Epoch 112  |  Train/Valid Acc: 70.50/62.30\n",
      "Epoch 113  |  Train/Valid Acc: 70.26/61.20\n",
      "Epoch 114  |  Train/Valid Acc: 70.61/62.50\n",
      "Epoch 115  |  Train/Valid Acc: 72.40/63.20\n",
      "Epoch 116  |  Train/Valid Acc: 67.99/62.00\n",
      "Epoch 117  |  Train/Valid Acc: 65.68/59.10\n",
      "Epoch 118  |  Train/Valid Acc: 69.47/61.50\n",
      "Epoch 119  |  Train/Valid Acc: 58.91/54.50\n",
      "Epoch 120  |  Train/Valid Acc: 67.82/61.30\n",
      "Epoch 121  |  Train/Valid Acc: 69.30/61.00\n",
      "Epoch 122  |  Train/Valid Acc: 68.17/62.80\n",
      "Epoch 123  |  Train/Valid Acc: 70.17/61.40\n",
      "Epoch 124  |  Train/Valid Acc: 68.70/59.60\n",
      "Epoch 125  |  Train/Valid Acc: 69.76/63.70\n",
      "Epoch 126  |  Train/Valid Acc: 71.09/62.20\n",
      "Epoch 127  |  Train/Valid Acc: 70.15/62.70\n",
      "Epoch 128  |  Train/Valid Acc: 66.50/60.10\n",
      "Epoch 129  |  Train/Valid Acc: 69.65/60.60\n",
      "Epoch 130  |  Train/Valid Acc: 66.07/60.40\n",
      "Epoch 131  |  Train/Valid Acc: 69.73/61.80\n",
      "Epoch 132  |  Train/Valid Acc: 70.32/62.10\n",
      "Epoch 133  |  Train/Valid Acc: 70.53/63.20\n",
      "Epoch 134  |  Train/Valid Acc: 70.77/61.80\n",
      "Epoch 135  |  Train/Valid Acc: 71.13/63.10\n",
      "Epoch 136  |  Train/Valid Acc: 70.12/62.60\n",
      "Epoch 137  |  Train/Valid Acc: 67.35/61.20\n",
      "Epoch 138  |  Train/Valid Acc: 71.86/62.80\n",
      "Epoch 139  |  Train/Valid Acc: 69.12/61.00\n",
      "Epoch 140  |  Train/Valid Acc: 70.37/62.40\n",
      "Epoch 141  |  Train/Valid Acc: 69.21/61.20\n",
      "Epoch 142  |  Train/Valid Acc: 67.16/60.00\n",
      "Epoch 143  |  Train/Valid Acc: 71.29/63.40\n",
      "Epoch 144  |  Train/Valid Acc: 65.15/60.20\n",
      "Epoch 145  |  Train/Valid Acc: 71.03/62.90\n",
      "Epoch 146  |  Train/Valid Acc: 71.92/62.70\n",
      "Epoch 147  |  Train/Valid Acc: 70.84/62.30\n",
      "Epoch 148  |  Train/Valid Acc: 71.53/62.50\n",
      "Epoch 149  |  Train/Valid Acc: 66.44/60.90\n",
      "Epoch 150  |  Train/Valid Acc: 62.75/55.90\n"
     ]
    },
    {
     "data": {
      "image/png": "[encoded data removed]",
      "text/plain": [
       "<matplotlib.figure.Figure at 0x7f5dfd31cac8>"
      ]
     },
     "metadata": {
      "tags": []
     },
     "output_type": "display_data"
    },
    {
     "data": {
      "image/png": "[encoded data removed]",
      "text/plain": [
       "<matplotlib.figure.Figure at 0x7f5d7eea4518>"
      ]
     },
     "metadata": {
      "tags": []
     },
     "output_type": "display_data"
    }
   ],
   "source": [
    "#################################\n",
    "### Setting for this run\n",
    "#################################\n",
    "\n",
    "num_epochs = 150\n",
    "iter_per_ep = len(train_loader.sampler.indices) // train_loader.batch_size\n",
    "base_lr = 0.09\n",
    "max_lr = 0.175\n",
    "\n",
    "#################################\n",
    "### Init Model\n",
    "#################################\n",
    "\n",
    "torch.manual_seed(random_seed)\n",
    "model = ConvNet(num_classes=num_classes)\n",
    "model = model.to(device)\n",
    "\n",
    "##########################\n",
    "### COST AND OPTIMIZER\n",
    "##########################\n",
    "\n",
    "cost_fn = torch.nn.CrossEntropyLoss()  \n",
    "optimizer = torch.optim.SGD(model.parameters(), lr=base_lr)  \n",
    "\n",
    "########################################################################\n",
    "# Collect the data to be evaluated via the LR Range Test\n",
    "collect = {'epoch': [], 'cost': [], 'train_acc': [], 'val_acc': []}\n",
    "########################################################################\n",
    "\n",
    "\n",
    "for epoch in range(num_epochs):\n",
    "    epoch_avg_cost = 0.\n",
    "    model = model.train()\n",
    "    for batch_idx, (features, targets) in enumerate(train_loader):\n",
    "        \n",
    "        features = features.to(device)\n",
    "        targets = targets.to(device)\n",
    "\n",
    "        ### FORWARD AND BACK PROP\n",
    "        logits, probas = model(features)\n",
    "        cost = cost_fn(logits, targets)\n",
    "        optimizer.zero_grad()\n",
    "\n",
    "        cost.backward()\n",
    "\n",
    "        ### UPDATE MODEL PARAMETERS\n",
    "        optimizer.step()\n",
    "\n",
    "        epoch_avg_cost += cost\n",
    "        \n",
    "        #############################################\n",
    "        # Logging\n",
    "        if not batch_step % 600:\n",
    "            print('Batch %5d/%d' % (batch_step, iter_per_ep*num_epochs),\n",
    "                                    end='')\n",
    "            print('   Cost: %.5f' % cost)     \n",
    "\n",
    "\n",
    "    #############################################\n",
    "    # Collect stats    \n",
    "    model = model.eval()\n",
    "    train_acc = compute_accuracy(model, train_loader)\n",
    "    val_acc = compute_accuracy(model, val_loader)\n",
    "    epoch_avg_cost /= batch_idx+1\n",
    "    collect['epoch'].append(epoch+1)\n",
    "    collect['val_acc'].append(val_acc)\n",
    "    collect['train_acc'].append(train_acc)\n",
    "    collect['cost'].append(epoch_avg_cost / iter_per_ep)\n",
    "    \n",
    "    ################################################\n",
    "    # Logging\n",
    "    print('Epoch %3d' % (epoch+1), end='')\n",
    "    print('  |  Train/Valid Acc: %.2f/%.2f' % (train_acc, val_acc))\n",
    "    \n",
    "    \n",
    "    #############################################\n",
    "    # update learning rate\n",
    "    base_lr = cyclical_learning_rate(batch_step=batch_step,\n",
    "                                     step_size=num_epochs*iter_per_ep,\n",
    "                                     base_lr=base_lr,\n",
    "                                     max_lr=max_lr,\n",
    "                                     mode='triangular2')\n",
    "    for g in optimizer.param_groups:\n",
    "        g['lr'] = base_lr\n",
    "    ############################################\n",
    "    \n",
    "    \n",
    "plt.plot(collect['epoch'], collect['train_acc'], label='train_acc')\n",
    "plt.plot(collect['epoch'], collect['val_acc'], label='val_acc')\n",
    "plt.xlabel('Epoch')\n",
    "plt.ylabel('Accuracy')\n",
    "plt.legend()\n",
    "plt.show()\n",
    "\n",
    "\n",
    "plt.plot(collect['epoch'], collect['cost'])\n",
    "plt.xlabel('Epoch')\n",
    "plt.ylabel('Avg. Cost Per Epoch')\n",
    "plt.show()"
   ]
  },
  {
   "cell_type": "code",
   "execution_count": 0,
   "metadata": {
    "colab": {
     "base_uri": "https://localhost:8080/",
     "height": 34
    },
    "colab_type": "code",
    "id": "FAIyUHvzZUK_",
    "outputId": "830250cd-62eb-48e7-fdea-f3855d5d9baf"
   },
   "outputs": [
    {
     "name": "stdout",
     "output_type": "stream",
     "text": [
      "Test accuracy: 55.97%\n"
     ]
    }
   ],
   "source": [
    "print('Test accuracy: %.2f%%' % (compute_accuracy(model, test_loader)))"
   ]
  },
  {
   "cell_type": "markdown",
   "metadata": {
    "colab_type": "text",
    "id": "903jZNgGdcjV"
   },
   "source": [
    "## Train with Cyclical Learning Rate (`exp_range`)"
   ]
  },
  {
   "cell_type": "code",
   "execution_count": 0,
   "metadata": {
    "colab": {
     "base_uri": "https://localhost:8080/",
     "height": 3091
    },
    "colab_type": "code",
    "id": "Y6_0-ygOdbYd",
    "outputId": "f72b602e-a3d5-466f-a6e5-2be69f537a13"
   },
   "outputs": [
    {
     "name": "stdout",
     "output_type": "stream",
     "text": [
      "Epoch   1  |  Train/Valid Acc: 10.13/11.60\n",
      "Epoch   2  |  Train/Valid Acc: 11.55/11.70\n",
      "Epoch   3  |  Train/Valid Acc: 25.75/23.20\n",
      "Epoch   4  |  Train/Valid Acc: 27.51/29.00\n",
      "Epoch   5  |  Train/Valid Acc: 39.12/38.30\n",
      "Epoch   6  |  Train/Valid Acc: 41.39/39.90\n",
      "Epoch   7  |  Train/Valid Acc: 39.65/36.20\n",
      "Epoch   8  |  Train/Valid Acc: 44.70/43.00\n",
      "Epoch   9  |  Train/Valid Acc: 50.36/47.70\n",
      "Epoch  10  |  Train/Valid Acc: 48.98/46.90\n",
      "Epoch  11  |  Train/Valid Acc: 52.94/50.90\n",
      "Epoch  12  |  Train/Valid Acc: 53.53/51.90\n",
      "Epoch  13  |  Train/Valid Acc: 54.76/51.70\n",
      "Epoch  14  |  Train/Valid Acc: 53.30/51.10\n",
      "Epoch  15  |  Train/Valid Acc: 53.76/52.00\n",
      "Epoch  16  |  Train/Valid Acc: 54.93/53.40\n",
      "Epoch  17  |  Train/Valid Acc: 55.76/53.70\n",
      "Epoch  18  |  Train/Valid Acc: 57.37/53.40\n",
      "Epoch  19  |  Train/Valid Acc: 59.95/57.10\n",
      "Epoch  20  |  Train/Valid Acc: 59.25/56.00\n",
      "Epoch  21  |  Train/Valid Acc: 60.19/56.50\n",
      "Epoch  22  |  Train/Valid Acc: 61.81/59.10\n",
      "Epoch  23  |  Train/Valid Acc: 61.85/59.10\n",
      "Epoch  24  |  Train/Valid Acc: 62.16/60.10\n",
      "Epoch  25  |  Train/Valid Acc: 63.22/60.10\n",
      "Epoch  26  |  Train/Valid Acc: 60.67/57.80\n",
      "Epoch  27  |  Train/Valid Acc: 61.31/57.90\n",
      "Epoch  28  |  Train/Valid Acc: 58.64/55.20\n",
      "Epoch  29  |  Train/Valid Acc: 57.83/54.70\n",
      "Epoch  30  |  Train/Valid Acc: 65.62/61.60\n",
      "Epoch  31  |  Train/Valid Acc: 63.29/59.90\n",
      "Epoch  32  |  Train/Valid Acc: 64.29/60.70\n",
      "Epoch  33  |  Train/Valid Acc: 63.54/59.00\n",
      "Epoch  34  |  Train/Valid Acc: 58.09/55.40\n",
      "Epoch  35  |  Train/Valid Acc: 63.96/59.00\n",
      "Epoch  36  |  Train/Valid Acc: 60.14/58.50\n",
      "Epoch  37  |  Train/Valid Acc: 63.02/60.30\n",
      "Epoch  38  |  Train/Valid Acc: 65.01/60.50\n",
      "Epoch  39  |  Train/Valid Acc: 64.49/60.40\n",
      "Epoch  40  |  Train/Valid Acc: 64.80/59.00\n",
      "Epoch  41  |  Train/Valid Acc: 65.30/60.90\n",
      "Epoch  42  |  Train/Valid Acc: 63.97/59.30\n",
      "Epoch  43  |  Train/Valid Acc: 59.48/56.20\n",
      "Epoch  44  |  Train/Valid Acc: 66.41/62.40\n",
      "Epoch  45  |  Train/Valid Acc: 65.78/59.90\n",
      "Epoch  46  |  Train/Valid Acc: 67.01/62.80\n",
      "Epoch  47  |  Train/Valid Acc: 67.16/62.20\n",
      "Epoch  48  |  Train/Valid Acc: 69.36/62.50\n",
      "Epoch  49  |  Train/Valid Acc: 66.45/61.60\n",
      "Epoch  50  |  Train/Valid Acc: 68.07/63.20\n",
      "Epoch  51  |  Train/Valid Acc: 65.20/60.00\n",
      "Epoch  52  |  Train/Valid Acc: 63.89/59.70\n",
      "Epoch  53  |  Train/Valid Acc: 66.96/63.10\n",
      "Epoch  54  |  Train/Valid Acc: 65.36/59.10\n",
      "Epoch  55  |  Train/Valid Acc: 67.08/60.60\n",
      "Epoch  56  |  Train/Valid Acc: 69.33/62.40\n",
      "Epoch  57  |  Train/Valid Acc: 64.61/58.30\n",
      "Epoch  58  |  Train/Valid Acc: 69.71/63.90\n",
      "Epoch  59  |  Train/Valid Acc: 65.72/61.10\n",
      "Epoch  60  |  Train/Valid Acc: 66.49/61.10\n",
      "Epoch  61  |  Train/Valid Acc: 66.22/61.40\n",
      "Epoch  62  |  Train/Valid Acc: 68.06/61.60\n",
      "Epoch  63  |  Train/Valid Acc: 62.72/58.60\n",
      "Epoch  64  |  Train/Valid Acc: 67.99/61.80\n",
      "Epoch  65  |  Train/Valid Acc: 69.33/62.50\n",
      "Epoch  66  |  Train/Valid Acc: 69.09/63.00\n",
      "Epoch  67  |  Train/Valid Acc: 68.93/62.10\n",
      "Epoch  68  |  Train/Valid Acc: 67.91/60.40\n",
      "Epoch  69  |  Train/Valid Acc: 65.51/61.90\n",
      "Epoch  70  |  Train/Valid Acc: 66.07/59.20\n",
      "Epoch  71  |  Train/Valid Acc: 68.46/63.00\n",
      "Epoch  72  |  Train/Valid Acc: 66.51/61.30\n",
      "Epoch  73  |  Train/Valid Acc: 69.50/62.80\n",
      "Epoch  74  |  Train/Valid Acc: 69.27/64.00\n",
      "Epoch  75  |  Train/Valid Acc: 70.48/64.00\n",
      "Epoch  76  |  Train/Valid Acc: 61.51/55.20\n",
      "Epoch  77  |  Train/Valid Acc: 70.82/63.70\n",
      "Epoch  78  |  Train/Valid Acc: 68.32/61.20\n",
      "Epoch  79  |  Train/Valid Acc: 67.52/61.80\n",
      "Epoch  80  |  Train/Valid Acc: 70.76/64.00\n",
      "Epoch  81  |  Train/Valid Acc: 68.33/60.70\n",
      "Epoch  82  |  Train/Valid Acc: 66.85/61.20\n",
      "Epoch  83  |  Train/Valid Acc: 66.71/62.50\n",
      "Epoch  84  |  Train/Valid Acc: 68.81/62.50\n",
      "Epoch  85  |  Train/Valid Acc: 71.42/62.40\n",
      "Epoch  86  |  Train/Valid Acc: 70.52/63.60\n",
      "Epoch  87  |  Train/Valid Acc: 69.99/62.60\n",
      "Epoch  88  |  Train/Valid Acc: 68.94/61.70\n",
      "Epoch  89  |  Train/Valid Acc: 67.74/59.80\n",
      "Epoch  90  |  Train/Valid Acc: 69.91/64.00\n",
      "Epoch  91  |  Train/Valid Acc: 68.71/61.90\n",
      "Epoch  92  |  Train/Valid Acc: 68.90/63.30\n",
      "Epoch  93  |  Train/Valid Acc: 68.52/61.40\n",
      "Epoch  94  |  Train/Valid Acc: 69.42/62.60\n",
      "Epoch  95  |  Train/Valid Acc: 64.73/60.50\n",
      "Epoch  96  |  Train/Valid Acc: 69.25/63.70\n",
      "Epoch  97  |  Train/Valid Acc: 66.61/58.30\n",
      "Epoch  98  |  Train/Valid Acc: 69.95/63.60\n",
      "Epoch  99  |  Train/Valid Acc: 71.78/64.60\n",
      "Epoch 100  |  Train/Valid Acc: 66.92/62.30\n",
      "Epoch 101  |  Train/Valid Acc: 69.41/63.40\n",
      "Epoch 102  |  Train/Valid Acc: 69.13/62.20\n",
      "Epoch 103  |  Train/Valid Acc: 70.49/62.20\n",
      "Epoch 104  |  Train/Valid Acc: 68.92/63.80\n",
      "Epoch 105  |  Train/Valid Acc: 68.16/60.10\n",
      "Epoch 106  |  Train/Valid Acc: 69.90/62.90\n",
      "Epoch 107  |  Train/Valid Acc: 70.87/64.20\n",
      "Epoch 108  |  Train/Valid Acc: 71.09/63.00\n",
      "Epoch 109  |  Train/Valid Acc: 67.09/59.20\n",
      "Epoch 110  |  Train/Valid Acc: 72.21/64.70\n",
      "Epoch 111  |  Train/Valid Acc: 69.92/63.00\n",
      "Epoch 112  |  Train/Valid Acc: 67.15/62.80\n",
      "Epoch 113  |  Train/Valid Acc: 67.50/60.50\n",
      "Epoch 114  |  Train/Valid Acc: 63.82/59.20\n",
      "Epoch 115  |  Train/Valid Acc: 71.75/62.70\n",
      "Epoch 116  |  Train/Valid Acc: 65.59/57.90\n",
      "Epoch 117  |  Train/Valid Acc: 67.58/61.40\n",
      "Epoch 118  |  Train/Valid Acc: 72.27/65.90\n",
      "Epoch 119  |  Train/Valid Acc: 71.09/64.40\n",
      "Epoch 120  |  Train/Valid Acc: 68.55/61.60\n",
      "Epoch 121  |  Train/Valid Acc: 68.35/62.10\n",
      "Epoch 122  |  Train/Valid Acc: 70.41/65.00\n",
      "Epoch 123  |  Train/Valid Acc: 69.30/63.00\n",
      "Epoch 124  |  Train/Valid Acc: 72.35/63.90\n",
      "Epoch 125  |  Train/Valid Acc: 67.35/60.00\n",
      "Epoch 126  |  Train/Valid Acc: 68.83/61.60\n",
      "Epoch 127  |  Train/Valid Acc: 67.48/60.80\n",
      "Epoch 128  |  Train/Valid Acc: 67.47/61.60\n",
      "Epoch 129  |  Train/Valid Acc: 70.77/61.60\n",
      "Epoch 130  |  Train/Valid Acc: 70.06/63.40\n",
      "Epoch 131  |  Train/Valid Acc: 70.97/61.70\n",
      "Epoch 132  |  Train/Valid Acc: 69.61/62.10\n",
      "Epoch 133  |  Train/Valid Acc: 70.01/63.80\n",
      "Epoch 134  |  Train/Valid Acc: 70.18/62.30\n",
      "Epoch 135  |  Train/Valid Acc: 71.86/65.30\n",
      "Epoch 136  |  Train/Valid Acc: 68.48/63.80\n",
      "Epoch 137  |  Train/Valid Acc: 69.07/63.60\n",
      "Epoch 138  |  Train/Valid Acc: 68.16/61.00\n",
      "Epoch 139  |  Train/Valid Acc: 72.15/63.70\n",
      "Epoch 140  |  Train/Valid Acc: 72.86/62.70\n",
      "Epoch 141  |  Train/Valid Acc: 67.67/60.20\n",
      "Epoch 142  |  Train/Valid Acc: 71.96/64.20\n",
      "Epoch 143  |  Train/Valid Acc: 70.48/60.70\n",
      "Epoch 144  |  Train/Valid Acc: 71.48/63.40\n",
      "Epoch 145  |  Train/Valid Acc: 71.94/64.20\n",
      "Epoch 146  |  Train/Valid Acc: 69.74/61.70\n",
      "Epoch 147  |  Train/Valid Acc: 68.40/63.00\n",
      "Epoch 148  |  Train/Valid Acc: 70.29/63.10\n",
      "Epoch 149  |  Train/Valid Acc: 70.47/63.30\n",
      "Epoch 150  |  Train/Valid Acc: 69.85/62.40\n"
     ]
    },
    {
     "data": {
      "image/png": "[encoded data removed]",
      "text/plain": [
       "<matplotlib.figure.Figure at 0x7f5d4fbd9278>"
      ]
     },
     "metadata": {
      "tags": []
     },
     "output_type": "display_data"
    },
    {
     "data": {
      "image/png": "[encoded data removed]",
      "text/plain": [
       "<matplotlib.figure.Figure at 0x7f5d7ee9c898>"
      ]
     },
     "metadata": {
      "tags": []
     },
     "output_type": "display_data"
    }
   ],
   "source": [
    "#################################\n",
    "### Setting for this run\n",
    "#################################\n",
    "\n",
    "num_epochs = 150\n",
    "iter_per_ep = len(train_loader.sampler.indices) // train_loader.batch_size\n",
    "base_lr = 0.09\n",
    "max_lr = 0.175\n",
    "\n",
    "#################################\n",
    "### Init Model\n",
    "#################################\n",
    "\n",
    "torch.manual_seed(random_seed)\n",
    "model = ConvNet(num_classes=num_classes)\n",
    "model = model.to(device)\n",
    "\n",
    "##########################\n",
    "### COST AND OPTIMIZER\n",
    "##########################\n",
    "\n",
    "cost_fn = torch.nn.CrossEntropyLoss()  \n",
    "optimizer = torch.optim.SGD(model.parameters(), lr=base_lr)  \n",
    "\n",
    "########################################################################\n",
    "# Collect the data to be evaluated via the LR Range Test\n",
    "collect = {'epoch': [], 'cost': [], 'train_acc': [], 'val_acc': []}\n",
    "########################################################################\n",
    "\n",
    "\n",
    "for epoch in range(num_epochs):\n",
    "    epoch_avg_cost = 0.\n",
    "    model = model.train()\n",
    "    for batch_idx, (features, targets) in enumerate(train_loader):\n",
    "        \n",
    "        features = features.to(device)\n",
    "        targets = targets.to(device)\n",
    "\n",
    "        ### FORWARD AND BACK PROP\n",
    "        logits, probas = model(features)\n",
    "        cost = cost_fn(logits, targets)\n",
    "        optimizer.zero_grad()\n",
    "\n",
    "        cost.backward()\n",
    "\n",
    "        ### UPDATE MODEL PARAMETERS\n",
    "        optimizer.step()\n",
    "\n",
    "        epoch_avg_cost += cost\n",
    "        \n",
    "        #############################################\n",
    "        # Logging\n",
    "        if not batch_step % 600:\n",
    "            print('Batch %5d/%d' % (batch_step, iter_per_ep*num_epochs),\n",
    "                                    end='')\n",
    "            print('   Cost: %.5f' % cost)     \n",
    "\n",
    "\n",
    "    #############################################\n",
    "    # Collect stats    \n",
    "    model = model.eval()\n",
    "    train_acc = compute_accuracy(model, train_loader)\n",
    "    val_acc = compute_accuracy(model, val_loader)\n",
    "    epoch_avg_cost /= batch_idx+1\n",
    "    collect['epoch'].append(epoch+1)\n",
    "    collect['val_acc'].append(val_acc)\n",
    "    collect['train_acc'].append(train_acc)\n",
    "    collect['cost'].append(epoch_avg_cost / iter_per_ep)\n",
    "    \n",
    "    ################################################\n",
    "    # Logging\n",
    "    print('Epoch %3d' % (epoch+1), end='')\n",
    "    print('  |  Train/Valid Acc: %.2f/%.2f' % (train_acc, val_acc))\n",
    "    \n",
    "    \n",
    "    #############################################\n",
    "    # update learning rate\n",
    "    base_lr = cyclical_learning_rate(batch_step=batch_step,\n",
    "                                     step_size=num_epochs*iter_per_ep,\n",
    "                                     base_lr=base_lr,\n",
    "                                     max_lr=max_lr,\n",
    "                                     mode='exp_range')\n",
    "    for g in optimizer.param_groups:\n",
    "        g['lr'] = base_lr\n",
    "    ############################################\n",
    "    \n",
    "    \n",
    "plt.plot(collect['epoch'], collect['train_acc'], label='train_acc')\n",
    "plt.plot(collect['epoch'], collect['val_acc'], label='val_acc')\n",
    "plt.xlabel('Epoch')\n",
    "plt.ylabel('Accuracy')\n",
    "plt.legend()\n",
    "plt.show()\n",
    "\n",
    "\n",
    "plt.plot(collect['epoch'], collect['cost'])\n",
    "plt.xlabel('Epoch')\n",
    "plt.ylabel('Avg. Cost Per Epoch')\n",
    "plt.show()"
   ]
  },
  {
   "cell_type": "code",
   "execution_count": 0,
   "metadata": {
    "colab": {
     "base_uri": "https://localhost:8080/",
     "height": 34
    },
    "colab_type": "code",
    "id": "CyUYaENcZWIS",
    "outputId": "d660813a-7fbc-4740-d586-7d586ee8d2e4"
   },
   "outputs": [
    {
     "name": "stdout",
     "output_type": "stream",
     "text": [
      "Test accuracy: 61.91%\n"
     ]
    }
   ],
   "source": [
    "print('Test accuracy: %.2f%%' % (compute_accuracy(model, test_loader)))"
   ]
  },
  {
   "cell_type": "code",
   "execution_count": 0,
   "metadata": {
    "colab": {},
    "colab_type": "code",
    "id": "REbfufQSZXSA"
   },
   "outputs": [],
   "source": []
  }
 ],
 "metadata": {
  "colab": {
   "collapsed_sections": [],
   "name": "Copy of recent-learning_rate_cyclic.ipynb",
   "provenance": [],
   "version": "0.3.2"
  },
  "kernelspec": {
   "display_name": "Python 3",
   "language": "python",
   "name": "python3"
  },
  "language_info": {
   "codemirror_mode": {
    "name": "ipython",
    "version": 3
   },
   "file_extension": ".py",
   "mimetype": "text/x-python",
   "name": "python",
   "nbconvert_exporter": "python",
   "pygments_lexer": "ipython3",
   "version": "3.6.6"
  }
 },
 "nbformat": 4,
 "nbformat_minor": 1
}
