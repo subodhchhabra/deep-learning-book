{
 "cells": [
  {
   "cell_type": "markdown",
   "metadata": {},
   "source": [
    "*Accompanying code examples of the book \"Introduction to Artificial Neural Networks and Deep Learning: A Practical Guide with Applications in Python\" by [Sebastian Raschka](https://sebastianraschka.com). All code examples are released under the [MIT license](https://github.com/rasbt/deep-learning-book/blob/master/LICENSE). If you find this content useful, please consider supporting the work by buying a [copy of the book](https://leanpub.com/ann-and-deeplearning).*\n",
    "  \n",
    "Other code examples and content are available on [GitHub](https://github.com/rasbt/deep-learning-book). The PDF and ebook versions of the book are available through [Leanpub](https://leanpub.com/ann-and-deeplearning)."
   ]
  },
  {
   "cell_type": "code",
   "execution_count": 1,
   "metadata": {},
   "outputs": [
    {
     "name": "stdout",
     "output_type": "stream",
     "text": [
      "Sebastian Raschka \n",
      "\n",
      "CPython 3.6.4\n",
      "IPython 6.2.1\n",
      "\n",
      "torch 0.4.0\n"
     ]
    }
   ],
   "source": [
    "%load_ext watermark\n",
    "%watermark -a 'Sebastian Raschka' -v -p torch"
   ]
  },
  {
   "cell_type": "markdown",
   "metadata": {},
   "source": [
    "- Runs on CPU or GPU (if available)"
   ]
  },
  {
   "cell_type": "markdown",
   "metadata": {},
   "source": [
    "# Model Zoo -- Convolutional Neural Network with He Initialization"
   ]
  },
  {
   "cell_type": "markdown",
   "metadata": {},
   "source": [
    "## Imports"
   ]
  },
  {
   "cell_type": "code",
   "execution_count": 2,
   "metadata": {},
   "outputs": [],
   "source": [
    "import numpy as np\n",
    "import torch\n",
    "import torch.nn as nn\n",
    "import torch.nn.functional as F\n",
    "from torchvision import datasets\n",
    "from torchvision import transforms\n",
    "from torch.utils.data import DataLoader"
   ]
  },
  {
   "cell_type": "markdown",
   "metadata": {},
   "source": [
    "## Settings and Dataset"
   ]
  },
  {
   "cell_type": "code",
   "execution_count": 3,
   "metadata": {},
   "outputs": [
    {
     "name": "stdout",
     "output_type": "stream",
     "text": [
      "Image batch dimensions: torch.Size([128, 1, 28, 28])\n",
      "Image label dimensions: torch.Size([128])\n"
     ]
    }
   ],
   "source": [
    "##########################\n",
    "### SETTINGS\n",
    "##########################\n",
    "\n",
    "# Device\n",
    "device = torch.device(\"cuda:0\" if torch.cuda.is_available() else \"cpu\")\n",
    "\n",
    "# Hyperparameters\n",
    "random_seed = 1\n",
    "learning_rate = 0.05\n",
    "num_epochs = 10\n",
    "batch_size = 128\n",
    "\n",
    "# Architecture\n",
    "num_classes = 10\n",
    "\n",
    "\n",
    "##########################\n",
    "### MNIST DATASET\n",
    "##########################\n",
    "\n",
    "# Note transforms.ToTensor() scales input images\n",
    "# to 0-1 range\n",
    "train_dataset = datasets.MNIST(root='data', \n",
    "                               train=True, \n",
    "                               transform=transforms.ToTensor(),\n",
    "                               download=True)\n",
    "\n",
    "test_dataset = datasets.MNIST(root='data', \n",
    "                              train=False, \n",
    "                              transform=transforms.ToTensor())\n",
    "\n",
    "\n",
    "train_loader = DataLoader(dataset=train_dataset, \n",
    "                          batch_size=batch_size, \n",
    "                          shuffle=True)\n",
    "\n",
    "test_loader = DataLoader(dataset=test_dataset, \n",
    "                         batch_size=batch_size, \n",
    "                         shuffle=False)\n",
    "\n",
    "# Checking the dataset\n",
    "for images, labels in train_loader:  \n",
    "    print('Image batch dimensions:', images.shape)\n",
    "    print('Image label dimensions:', labels.shape)\n",
    "    break"
   ]
  },
  {
   "cell_type": "markdown",
   "metadata": {},
   "source": [
    "## Model"
   ]
  },
  {
   "cell_type": "code",
   "execution_count": 4,
   "metadata": {},
   "outputs": [],
   "source": [
    "##########################\n",
    "### MODEL\n",
    "##########################\n",
    "\n",
    "\n",
    "class ConvNet(torch.nn.Module):\n",
    "\n",
    "    def __init__(self, num_classes):\n",
    "        super(ConvNet, self).__init__()\n",
    "        \n",
    "        # calculate same padding:\n",
    "        # (w - k + 2*p)/s + 1 = o\n",
    "        # => p = (s(o-1) - w + k)/2\n",
    "        \n",
    "        # 28x28x1 => 28x28x4\n",
    "        self.conv_1 = torch.nn.Conv2d(in_channels=1,\n",
    "                                      out_channels=4,\n",
    "                                      kernel_size=(3, 3),\n",
    "                                      stride=(1, 1),\n",
    "                                      padding=1) # (1(28-1) - 28 + 3) / 2 = 1\n",
    "        # 28x28x4 => 14x14x4\n",
    "        self.pool_1 = torch.nn.MaxPool2d(kernel_size=(2, 2),\n",
    "                                         stride=(2, 2),\n",
    "                                         padding=0) # (2(14-1) - 28 + 2) = 0                                       \n",
    "        # 14x14x4 => 14x14x8\n",
    "        self.conv_2 = torch.nn.Conv2d(in_channels=4,\n",
    "                                      out_channels=8,\n",
    "                                      kernel_size=(3, 3),\n",
    "                                      stride=(1, 1),\n",
    "                                      padding=1) # (1(14-1) - 14 + 3) / 2 = 1                 \n",
    "        # 14x14x8 => 7x7x8                             \n",
    "        self.pool_2 = torch.nn.MaxPool2d(kernel_size=(2, 2),\n",
    "                                         stride=(2, 2),\n",
    "                                         padding=0) # (2(7-1) - 14 + 2) = 0\n",
    "        \n",
    "        self.linear_1 = torch.nn.Linear(7*7*8, num_classes)\n",
    "        \n",
    "        ###############################################\n",
    "        # Reinitialize weights using He initialization\n",
    "        ###############################################\n",
    "        for m in self.modules():\n",
    "            if isinstance(m, torch.nn.Conv2d):\n",
    "                nn.init.kaiming_normal_(m.weight.detach())\n",
    "                m.bias.detach().zero_()\n",
    "            elif isinstance(m, torch.nn.Linear):\n",
    "                nn.init.kaiming_normal_(m.weight.detach())\n",
    "                m.bias.detach().zero_()\n",
    "        \n",
    "    def forward(self, x):\n",
    "        out = self.conv_1(x)\n",
    "        out = F.relu(out)\n",
    "        out = self.pool_1(out)\n",
    "\n",
    "        out = self.conv_2(out)\n",
    "        out = F.relu(out)\n",
    "        out = self.pool_2(out)\n",
    "        \n",
    "        logits = self.linear_1(out.view(-1, 7*7*8))\n",
    "        probas = F.softmax(logits, dim=1)\n",
    "        return logits, probas\n",
    "\n",
    "    \n",
    "torch.manual_seed(random_seed)\n",
    "model = ConvNet(num_classes=num_classes)\n",
    "\n",
    "model = model.to(device)\n",
    "    \n",
    "\n",
    "##########################\n",
    "### COST AND OPTIMIZER\n",
    "##########################\n",
    "\n",
    "cost_fn = torch.nn.CrossEntropyLoss()  \n",
    "optimizer = torch.optim.SGD(model.parameters(), lr=learning_rate)  "
   ]
  },
  {
   "cell_type": "markdown",
   "metadata": {},
   "source": [
    "## Training"
   ]
  },
  {
   "cell_type": "code",
   "execution_count": 5,
   "metadata": {},
   "outputs": [
    {
     "name": "stdout",
     "output_type": "stream",
     "text": [
      "Epoch: 001/010 | Batch 000/468 | Cost: 2.4810\n",
      "Epoch: 001/010 | Batch 050/468 | Cost: 1.1332\n",
      "Epoch: 001/010 | Batch 100/468 | Cost: 0.4899\n",
      "Epoch: 001/010 | Batch 150/468 | Cost: 0.4799\n",
      "Epoch: 001/010 | Batch 200/468 | Cost: 0.3250\n",
      "Epoch: 001/010 | Batch 250/468 | Cost: 0.3451\n",
      "Epoch: 001/010 | Batch 300/468 | Cost: 0.2763\n",
      "Epoch: 001/010 | Batch 350/468 | Cost: 0.1854\n",
      "Epoch: 001/010 | Batch 400/468 | Cost: 0.2631\n",
      "Epoch: 001/010 | Batch 450/468 | Cost: 0.3158\n",
      "Epoch: 001/010 training accuracy: 92.74%\n",
      "Epoch: 002/010 | Batch 000/468 | Cost: 0.2095\n",
      "Epoch: 002/010 | Batch 050/468 | Cost: 0.1193\n",
      "Epoch: 002/010 | Batch 100/468 | Cost: 0.3721\n",
      "Epoch: 002/010 | Batch 150/468 | Cost: 0.2772\n",
      "Epoch: 002/010 | Batch 200/468 | Cost: 0.1672\n",
      "Epoch: 002/010 | Batch 250/468 | Cost: 0.1292\n",
      "Epoch: 002/010 | Batch 300/468 | Cost: 0.1777\n",
      "Epoch: 002/010 | Batch 350/468 | Cost: 0.1625\n",
      "Epoch: 002/010 | Batch 400/468 | Cost: 0.2008\n",
      "Epoch: 002/010 | Batch 450/468 | Cost: 0.2113\n",
      "Epoch: 002/010 training accuracy: 94.95%\n",
      "Epoch: 003/010 | Batch 000/468 | Cost: 0.3122\n",
      "Epoch: 003/010 | Batch 050/468 | Cost: 0.1598\n",
      "Epoch: 003/010 | Batch 100/468 | Cost: 0.1967\n",
      "Epoch: 003/010 | Batch 150/468 | Cost: 0.0694\n",
      "Epoch: 003/010 | Batch 200/468 | Cost: 0.1662\n",
      "Epoch: 003/010 | Batch 250/468 | Cost: 0.1336\n",
      "Epoch: 003/010 | Batch 300/468 | Cost: 0.1620\n",
      "Epoch: 003/010 | Batch 350/468 | Cost: 0.0955\n",
      "Epoch: 003/010 | Batch 400/468 | Cost: 0.0842\n",
      "Epoch: 003/010 | Batch 450/468 | Cost: 0.1451\n",
      "Epoch: 003/010 training accuracy: 96.14%\n",
      "Epoch: 004/010 | Batch 000/468 | Cost: 0.0934\n",
      "Epoch: 004/010 | Batch 050/468 | Cost: 0.2588\n",
      "Epoch: 004/010 | Batch 100/468 | Cost: 0.0866\n",
      "Epoch: 004/010 | Batch 150/468 | Cost: 0.1574\n",
      "Epoch: 004/010 | Batch 200/468 | Cost: 0.0691\n",
      "Epoch: 004/010 | Batch 250/468 | Cost: 0.1669\n",
      "Epoch: 004/010 | Batch 300/468 | Cost: 0.1267\n",
      "Epoch: 004/010 | Batch 350/468 | Cost: 0.0731\n",
      "Epoch: 004/010 | Batch 400/468 | Cost: 0.0832\n",
      "Epoch: 004/010 | Batch 450/468 | Cost: 0.0724\n",
      "Epoch: 004/010 training accuracy: 96.89%\n",
      "Epoch: 005/010 | Batch 000/468 | Cost: 0.0919\n",
      "Epoch: 005/010 | Batch 050/468 | Cost: 0.0704\n",
      "Epoch: 005/010 | Batch 100/468 | Cost: 0.0632\n",
      "Epoch: 005/010 | Batch 150/468 | Cost: 0.1508\n",
      "Epoch: 005/010 | Batch 200/468 | Cost: 0.0771\n",
      "Epoch: 005/010 | Batch 250/468 | Cost: 0.0833\n",
      "Epoch: 005/010 | Batch 300/468 | Cost: 0.0689\n",
      "Epoch: 005/010 | Batch 350/468 | Cost: 0.1140\n",
      "Epoch: 005/010 | Batch 400/468 | Cost: 0.1259\n",
      "Epoch: 005/010 | Batch 450/468 | Cost: 0.0870\n",
      "Epoch: 005/010 training accuracy: 97.19%\n",
      "Epoch: 006/010 | Batch 000/468 | Cost: 0.0710\n",
      "Epoch: 006/010 | Batch 050/468 | Cost: 0.0914\n",
      "Epoch: 006/010 | Batch 100/468 | Cost: 0.0905\n",
      "Epoch: 006/010 | Batch 150/468 | Cost: 0.0285\n",
      "Epoch: 006/010 | Batch 200/468 | Cost: 0.0976\n",
      "Epoch: 006/010 | Batch 250/468 | Cost: 0.0750\n",
      "Epoch: 006/010 | Batch 300/468 | Cost: 0.0776\n",
      "Epoch: 006/010 | Batch 350/468 | Cost: 0.0836\n",
      "Epoch: 006/010 | Batch 400/468 | Cost: 0.0273\n",
      "Epoch: 006/010 | Batch 450/468 | Cost: 0.0709\n",
      "Epoch: 006/010 training accuracy: 97.12%\n",
      "Epoch: 007/010 | Batch 000/468 | Cost: 0.1153\n",
      "Epoch: 007/010 | Batch 050/468 | Cost: 0.1064\n",
      "Epoch: 007/010 | Batch 100/468 | Cost: 0.2173\n",
      "Epoch: 007/010 | Batch 150/468 | Cost: 0.1566\n",
      "Epoch: 007/010 | Batch 200/468 | Cost: 0.0515\n",
      "Epoch: 007/010 | Batch 250/468 | Cost: 0.0818\n",
      "Epoch: 007/010 | Batch 300/468 | Cost: 0.0338\n",
      "Epoch: 007/010 | Batch 350/468 | Cost: 0.0820\n",
      "Epoch: 007/010 | Batch 400/468 | Cost: 0.0548\n",
      "Epoch: 007/010 | Batch 450/468 | Cost: 0.0380\n",
      "Epoch: 007/010 training accuracy: 97.66%\n",
      "Epoch: 008/010 | Batch 000/468 | Cost: 0.0371\n",
      "Epoch: 008/010 | Batch 050/468 | Cost: 0.1716\n",
      "Epoch: 008/010 | Batch 100/468 | Cost: 0.0506\n",
      "Epoch: 008/010 | Batch 150/468 | Cost: 0.0650\n",
      "Epoch: 008/010 | Batch 200/468 | Cost: 0.0784\n",
      "Epoch: 008/010 | Batch 250/468 | Cost: 0.0579\n",
      "Epoch: 008/010 | Batch 300/468 | Cost: 0.0578\n",
      "Epoch: 008/010 | Batch 350/468 | Cost: 0.1004\n",
      "Epoch: 008/010 | Batch 400/468 | Cost: 0.0533\n",
      "Epoch: 008/010 | Batch 450/468 | Cost: 0.0435\n",
      "Epoch: 008/010 training accuracy: 97.74%\n",
      "Epoch: 009/010 | Batch 000/468 | Cost: 0.0645\n",
      "Epoch: 009/010 | Batch 050/468 | Cost: 0.0221\n",
      "Epoch: 009/010 | Batch 100/468 | Cost: 0.1058\n",
      "Epoch: 009/010 | Batch 150/468 | Cost: 0.0388\n",
      "Epoch: 009/010 | Batch 200/468 | Cost: 0.0253\n",
      "Epoch: 009/010 | Batch 250/468 | Cost: 0.1549\n",
      "Epoch: 009/010 | Batch 300/468 | Cost: 0.0805\n",
      "Epoch: 009/010 | Batch 350/468 | Cost: 0.0954\n",
      "Epoch: 009/010 | Batch 400/468 | Cost: 0.0705\n",
      "Epoch: 009/010 | Batch 450/468 | Cost: 0.0527\n",
      "Epoch: 009/010 training accuracy: 97.76%\n",
      "Epoch: 010/010 | Batch 000/468 | Cost: 0.0866\n",
      "Epoch: 010/010 | Batch 050/468 | Cost: 0.0549\n",
      "Epoch: 010/010 | Batch 100/468 | Cost: 0.0360\n",
      "Epoch: 010/010 | Batch 150/468 | Cost: 0.0424\n",
      "Epoch: 010/010 | Batch 200/468 | Cost: 0.0583\n",
      "Epoch: 010/010 | Batch 250/468 | Cost: 0.1277\n",
      "Epoch: 010/010 | Batch 300/468 | Cost: 0.0517\n",
      "Epoch: 010/010 | Batch 350/468 | Cost: 0.0723\n",
      "Epoch: 010/010 | Batch 400/468 | Cost: 0.0923\n",
      "Epoch: 010/010 | Batch 450/468 | Cost: 0.0247\n",
      "Epoch: 010/010 training accuracy: 98.01%\n"
     ]
    }
   ],
   "source": [
    "def compute_accuracy(model, data_loader):\n",
    "    correct_pred, num_examples = 0, 0\n",
    "    for features, targets in data_loader:\n",
    "        features = features.to(device)\n",
    "        targets = targets.to(device)\n",
    "        logits, probas = model(features)\n",
    "        _, predicted_labels = torch.max(probas, 1)\n",
    "        num_examples += targets.size(0)\n",
    "        correct_pred += (predicted_labels == targets).sum()\n",
    "    return correct_pred.float()/num_examples * 100\n",
    "    \n",
    "\n",
    "for epoch in range(num_epochs):\n",
    "    model = model.train()\n",
    "    for batch_idx, (features, targets) in enumerate(train_loader):\n",
    "        \n",
    "        features = features.to(device)\n",
    "        targets = targets.to(device)\n",
    "\n",
    "        ### FORWARD AND BACK PROP\n",
    "        logits, probas = model(features)\n",
    "        cost = cost_fn(logits, targets)\n",
    "        optimizer.zero_grad()\n",
    "        \n",
    "        cost.backward()\n",
    "        \n",
    "        ### UPDATE MODEL PARAMETERS\n",
    "        optimizer.step()\n",
    "        \n",
    "        ### LOGGING\n",
    "        if not batch_idx % 50:\n",
    "            print ('Epoch: %03d/%03d | Batch %03d/%03d | Cost: %.4f' \n",
    "                   %(epoch+1, num_epochs, batch_idx, \n",
    "                     len(train_dataset)//batch_size, cost))\n",
    "    \n",
    "    model = model.eval()\n",
    "    print('Epoch: %03d/%03d training accuracy: %.2f%%' % (\n",
    "          epoch+1, num_epochs, \n",
    "          compute_accuracy(model, train_loader)))"
   ]
  },
  {
   "cell_type": "markdown",
   "metadata": {},
   "source": [
    "## Evaluation"
   ]
  },
  {
   "cell_type": "code",
   "execution_count": 6,
   "metadata": {},
   "outputs": [
    {
     "name": "stdout",
     "output_type": "stream",
     "text": [
      "Test accuracy: 97.85%\n"
     ]
    }
   ],
   "source": [
    "print('Test accuracy: %.2f%%' % (compute_accuracy(model, test_loader)))"
   ]
  }
 ],
 "metadata": {
  "kernelspec": {
   "display_name": "Python 3",
   "language": "python",
   "name": "python3"
  },
  "language_info": {
   "codemirror_mode": {
    "name": "ipython",
    "version": 3
   },
   "file_extension": ".py",
   "mimetype": "text/x-python",
   "name": "python",
   "nbconvert_exporter": "python",
   "pygments_lexer": "ipython3",
   "version": "3.6.4"
  },
  "toc": {
   "nav_menu": {},
   "number_sections": true,
   "sideBar": true,
   "skip_h1_title": false,
   "title_cell": "Table of Contents",
   "title_sidebar": "Contents",
   "toc_cell": false,
   "toc_position": {},
   "toc_section_display": true,
   "toc_window_display": false
  }
 },
 "nbformat": 4,
 "nbformat_minor": 2
}
