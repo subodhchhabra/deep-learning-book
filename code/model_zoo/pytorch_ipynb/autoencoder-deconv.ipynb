{
 "cells": [
  {
   "cell_type": "markdown",
   "metadata": {},
   "source": [
    "*Accompanying code examples of the book \"Introduction to Artificial Neural Networks and Deep Learning: A Practical Guide with Applications in Python\" by [Sebastian Raschka](https://sebastianraschka.com). All code examples are released under the [MIT license](https://github.com/rasbt/deep-learning-book/blob/master/LICENSE). If you find this content useful, please consider supporting the work by buying a [copy of the book](https://leanpub.com/ann-and-deeplearning).*\n",
    "  \n",
    "Other code examples and content are available on [GitHub](https://github.com/rasbt/deep-learning-book). The PDF and ebook versions of the book are available through [Leanpub](https://leanpub.com/ann-and-deeplearning)."
   ]
  },
  {
   "cell_type": "code",
   "execution_count": 1,
   "metadata": {},
   "outputs": [
    {
     "name": "stdout",
     "output_type": "stream",
     "text": [
      "Sebastian Raschka \n",
      "\n",
      "CPython 3.6.4\n",
      "IPython 6.2.1\n",
      "\n",
      "torch 0.4.0\n"
     ]
    }
   ],
   "source": [
    "%load_ext watermark\n",
    "%watermark -a 'Sebastian Raschka' -v -p torch"
   ]
  },
  {
   "cell_type": "markdown",
   "metadata": {},
   "source": [
    "- Runs on CPU or GPU (if available)"
   ]
  },
  {
   "cell_type": "markdown",
   "metadata": {},
   "source": [
    "# Model Zoo -- Convolutional Autoencoder with Deconvolutions"
   ]
  },
  {
   "cell_type": "markdown",
   "metadata": {},
   "source": [
    "A convolutional autoencoder using deconvolutional layers that compresses 768-pixel MNIST images down to a 7x7x8 (392 pixel) representation."
   ]
  },
  {
   "cell_type": "markdown",
   "metadata": {},
   "source": [
    "## Imports"
   ]
  },
  {
   "cell_type": "code",
   "execution_count": 2,
   "metadata": {},
   "outputs": [],
   "source": [
    "import numpy as np\n",
    "import torch\n",
    "import torch.nn.functional as F\n",
    "from torch.utils.data import DataLoader\n",
    "from torchvision import datasets\n",
    "from torchvision import transforms"
   ]
  },
  {
   "cell_type": "code",
   "execution_count": 3,
   "metadata": {},
   "outputs": [
    {
     "name": "stdout",
     "output_type": "stream",
     "text": [
      "Device: cpu\n",
      "Image batch dimensions: torch.Size([128, 1, 28, 28])\n",
      "Image label dimensions: torch.Size([128])\n"
     ]
    }
   ],
   "source": [
    "##########################\n",
    "### SETTINGS\n",
    "##########################\n",
    "\n",
    "# Device\n",
    "device = torch.device(\"cuda:0\" if torch.cuda.is_available() else \"cpu\")\n",
    "print('Device:', device)\n",
    "\n",
    "# Hyperparameters\n",
    "random_seed = 123\n",
    "learning_rate = 0.005\n",
    "num_epochs = 10\n",
    "batch_size = 128\n",
    "\n",
    "\n",
    "##########################\n",
    "### MNIST DATASET\n",
    "##########################\n",
    "\n",
    "# Note transforms.ToTensor() scales input images\n",
    "# to 0-1 range\n",
    "train_dataset = datasets.MNIST(root='data', \n",
    "                               train=True, \n",
    "                               transform=transforms.ToTensor(),\n",
    "                               download=True)\n",
    "\n",
    "test_dataset = datasets.MNIST(root='data', \n",
    "                              train=False, \n",
    "                              transform=transforms.ToTensor())\n",
    "\n",
    "\n",
    "train_loader = DataLoader(dataset=train_dataset, \n",
    "                          batch_size=batch_size, \n",
    "                          shuffle=True)\n",
    "\n",
    "test_loader = DataLoader(dataset=test_dataset, \n",
    "                         batch_size=batch_size, \n",
    "                         shuffle=False)\n",
    "\n",
    "# Checking the dataset\n",
    "for images, labels in train_loader:  \n",
    "    print('Image batch dimensions:', images.shape)\n",
    "    print('Image label dimensions:', labels.shape)\n",
    "    break"
   ]
  },
  {
   "cell_type": "markdown",
   "metadata": {},
   "source": [
    "## Model"
   ]
  },
  {
   "cell_type": "code",
   "execution_count": 4,
   "metadata": {},
   "outputs": [],
   "source": [
    "##########################\n",
    "### MODEL\n",
    "##########################\n",
    "\n",
    "\n",
    "class ConvolutionalAutoencoder(torch.nn.Module):\n",
    "\n",
    "    def __init__(self):\n",
    "        super(ConvolutionalAutoencoder, self).__init__()\n",
    "        \n",
    "        # calculate same padding:\n",
    "        # (w - k + 2*p)/s + 1 = o\n",
    "        # => p = (s(o-1) - w + k)/2\n",
    "        \n",
    "        ### ENCODER\n",
    "        \n",
    "        # 28x28x1 => 28x28x4\n",
    "        self.conv_1 = torch.nn.Conv2d(in_channels=1,\n",
    "                                      out_channels=4,\n",
    "                                      kernel_size=(3, 3),\n",
    "                                      stride=(1, 1),\n",
    "                                      # (1(28-1) - 28 + 3) / 2 = 1\n",
    "                                      padding=1) \n",
    "        # 28x28x4 => 14x14x4                              \n",
    "        self.pool_1 = torch.nn.MaxPool2d(kernel_size=(2, 2),\n",
    "                                         stride=(2, 2),\n",
    "                                         # (2(14-1) - 28 + 2) / 2 = 0\n",
    "                                         padding=0)                                       \n",
    "        # 14x14x4 => 14x14x8\n",
    "        self.conv_2 = torch.nn.Conv2d(in_channels=4,\n",
    "                                      out_channels=8,\n",
    "                                      kernel_size=(3, 3),\n",
    "                                      stride=(1, 1),\n",
    "                                      # (1(14-1) - 14 + 3) / 2 = 1\n",
    "                                      padding=1)                 \n",
    "        # 14x14x8 => 7x7x8                             \n",
    "        self.pool_2 = torch.nn.MaxPool2d(kernel_size=(2, 2),\n",
    "                                         stride=(2, 2),\n",
    "                                         # (2(7-1) - 14 + 2) / 2 = 0\n",
    "                                         padding=0)\n",
    "        \n",
    "        ### DECODER\n",
    "                                         \n",
    "        # 7x7x8 => 15x15x4                          \n",
    "        self.deconv_1 = torch.nn.ConvTranspose2d(in_channels=8,\n",
    "                                                 out_channels=4,\n",
    "                                                 kernel_size=(3, 3),\n",
    "                                                 stride=(2, 2),\n",
    "                                                 padding=0)\n",
    "        \n",
    "        # 15x15x4  => 31x31x1                           \n",
    "        self.deconv_2 = torch.nn.ConvTranspose2d(in_channels=4,\n",
    "                                                 out_channels=1,\n",
    "                                                 kernel_size=(3, 3),\n",
    "                                                 stride=(2, 2),\n",
    "                                                 padding=0)\n",
    "        \n",
    "    def forward(self, x):\n",
    "        \n",
    "        ### ENCODER\n",
    "        x = self.conv_1(x)\n",
    "        x = F.leaky_relu(x)\n",
    "        x = self.pool_1(x)\n",
    "        x = self.conv_2(x)\n",
    "        x = F.leaky_relu(x)\n",
    "        x = self.pool_2(x)\n",
    "        \n",
    "        ### DECODER\n",
    "        x = self.deconv_1(x)\n",
    "        x = F.leaky_relu(x)\n",
    "        x = self.deconv_2(x)\n",
    "        x = F.leaky_relu(x)\n",
    "        x = x[:, :, 2:30, 2:30]\n",
    "        x = F.sigmoid(x)\n",
    "        return x\n",
    "\n",
    "    \n",
    "torch.manual_seed(random_seed)\n",
    "model = ConvolutionalAutoencoder()\n",
    "model = model.to(device)\n",
    "    \n",
    "\n",
    "##########################\n",
    "### COST AND OPTIMIZER\n",
    "##########################\n",
    "\n",
    "cost_fn = torch.nn.BCELoss() # torch.nn.MSELoss()\n",
    "optimizer = torch.optim.Adam(model.parameters(), lr=learning_rate)  "
   ]
  },
  {
   "cell_type": "markdown",
   "metadata": {},
   "source": [
    "## Training"
   ]
  },
  {
   "cell_type": "code",
   "execution_count": 5,
   "metadata": {},
   "outputs": [
    {
     "name": "stdout",
     "output_type": "stream",
     "text": [
      "Epoch: 001/010 | Batch 000/468 | Cost: 0.6981\n",
      "Epoch: 001/010 | Batch 050/468 | Cost: 0.6926\n",
      "Epoch: 001/010 | Batch 100/468 | Cost: 0.6889\n",
      "Epoch: 001/010 | Batch 150/468 | Cost: 0.6042\n",
      "Epoch: 001/010 | Batch 200/468 | Cost: 0.2774\n",
      "Epoch: 001/010 | Batch 250/468 | Cost: 0.1878\n",
      "Epoch: 001/010 | Batch 300/468 | Cost: 0.1763\n",
      "Epoch: 001/010 | Batch 350/468 | Cost: 0.1707\n",
      "Epoch: 001/010 | Batch 400/468 | Cost: 0.1594\n",
      "Epoch: 001/010 | Batch 450/468 | Cost: 0.1474\n",
      "Epoch: 002/010 | Batch 000/468 | Cost: 0.1498\n",
      "Epoch: 002/010 | Batch 050/468 | Cost: 0.1352\n",
      "Epoch: 002/010 | Batch 100/468 | Cost: 0.1315\n",
      "Epoch: 002/010 | Batch 150/468 | Cost: 0.1238\n",
      "Epoch: 002/010 | Batch 200/468 | Cost: 0.1210\n",
      "Epoch: 002/010 | Batch 250/468 | Cost: 0.1237\n",
      "Epoch: 002/010 | Batch 300/468 | Cost: 0.1158\n",
      "Epoch: 002/010 | Batch 350/468 | Cost: 0.1168\n",
      "Epoch: 002/010 | Batch 400/468 | Cost: 0.1136\n",
      "Epoch: 002/010 | Batch 450/468 | Cost: 0.1117\n",
      "Epoch: 003/010 | Batch 000/468 | Cost: 0.1068\n",
      "Epoch: 003/010 | Batch 050/468 | Cost: 0.1070\n",
      "Epoch: 003/010 | Batch 100/468 | Cost: 0.1047\n",
      "Epoch: 003/010 | Batch 150/468 | Cost: 0.1025\n",
      "Epoch: 003/010 | Batch 200/468 | Cost: 0.1040\n",
      "Epoch: 003/010 | Batch 250/468 | Cost: 0.1033\n",
      "Epoch: 003/010 | Batch 300/468 | Cost: 0.1063\n",
      "Epoch: 003/010 | Batch 350/468 | Cost: 0.1040\n",
      "Epoch: 003/010 | Batch 400/468 | Cost: 0.1077\n",
      "Epoch: 003/010 | Batch 450/468 | Cost: 0.0985\n",
      "Epoch: 004/010 | Batch 000/468 | Cost: 0.1034\n",
      "Epoch: 004/010 | Batch 050/468 | Cost: 0.1019\n",
      "Epoch: 004/010 | Batch 100/468 | Cost: 0.1001\n",
      "Epoch: 004/010 | Batch 150/468 | Cost: 0.0969\n",
      "Epoch: 004/010 | Batch 200/468 | Cost: 0.0966\n",
      "Epoch: 004/010 | Batch 250/468 | Cost: 0.1021\n",
      "Epoch: 004/010 | Batch 300/468 | Cost: 0.0967\n",
      "Epoch: 004/010 | Batch 350/468 | Cost: 0.0952\n",
      "Epoch: 004/010 | Batch 400/468 | Cost: 0.0987\n",
      "Epoch: 004/010 | Batch 450/468 | Cost: 0.0971\n",
      "Epoch: 005/010 | Batch 000/468 | Cost: 0.0961\n",
      "Epoch: 005/010 | Batch 050/468 | Cost: 0.1002\n",
      "Epoch: 005/010 | Batch 100/468 | Cost: 0.0980\n",
      "Epoch: 005/010 | Batch 150/468 | Cost: 0.0938\n",
      "Epoch: 005/010 | Batch 200/468 | Cost: 0.0964\n",
      "Epoch: 005/010 | Batch 250/468 | Cost: 0.0945\n",
      "Epoch: 005/010 | Batch 300/468 | Cost: 0.0979\n",
      "Epoch: 005/010 | Batch 350/468 | Cost: 0.0962\n",
      "Epoch: 005/010 | Batch 400/468 | Cost: 0.0962\n",
      "Epoch: 005/010 | Batch 450/468 | Cost: 0.0964\n",
      "Epoch: 006/010 | Batch 000/468 | Cost: 0.0953\n",
      "Epoch: 006/010 | Batch 050/468 | Cost: 0.0986\n",
      "Epoch: 006/010 | Batch 100/468 | Cost: 0.0917\n",
      "Epoch: 006/010 | Batch 150/468 | Cost: 0.0935\n",
      "Epoch: 006/010 | Batch 200/468 | Cost: 0.0961\n",
      "Epoch: 006/010 | Batch 250/468 | Cost: 0.0962\n",
      "Epoch: 006/010 | Batch 300/468 | Cost: 0.0948\n",
      "Epoch: 006/010 | Batch 350/468 | Cost: 0.0953\n",
      "Epoch: 006/010 | Batch 400/468 | Cost: 0.0914\n",
      "Epoch: 006/010 | Batch 450/468 | Cost: 0.0924\n",
      "Epoch: 007/010 | Batch 000/468 | Cost: 0.0882\n",
      "Epoch: 007/010 | Batch 050/468 | Cost: 0.0948\n",
      "Epoch: 007/010 | Batch 100/468 | Cost: 0.0960\n",
      "Epoch: 007/010 | Batch 150/468 | Cost: 0.0959\n",
      "Epoch: 007/010 | Batch 200/468 | Cost: 0.0898\n",
      "Epoch: 007/010 | Batch 250/468 | Cost: 0.0941\n",
      "Epoch: 007/010 | Batch 300/468 | Cost: 0.0909\n",
      "Epoch: 007/010 | Batch 350/468 | Cost: 0.0957\n",
      "Epoch: 007/010 | Batch 400/468 | Cost: 0.0908\n",
      "Epoch: 007/010 | Batch 450/468 | Cost: 0.0929\n",
      "Epoch: 008/010 | Batch 000/468 | Cost: 0.0941\n",
      "Epoch: 008/010 | Batch 050/468 | Cost: 0.0977\n",
      "Epoch: 008/010 | Batch 100/468 | Cost: 0.0920\n",
      "Epoch: 008/010 | Batch 150/468 | Cost: 0.0966\n",
      "Epoch: 008/010 | Batch 200/468 | Cost: 0.0909\n",
      "Epoch: 008/010 | Batch 250/468 | Cost: 0.0879\n",
      "Epoch: 008/010 | Batch 300/468 | Cost: 0.0929\n",
      "Epoch: 008/010 | Batch 350/468 | Cost: 0.0906\n",
      "Epoch: 008/010 | Batch 400/468 | Cost: 0.0968\n",
      "Epoch: 008/010 | Batch 450/468 | Cost: 0.0935\n",
      "Epoch: 009/010 | Batch 000/468 | Cost: 0.0922\n",
      "Epoch: 009/010 | Batch 050/468 | Cost: 0.0927\n",
      "Epoch: 009/010 | Batch 100/468 | Cost: 0.0939\n",
      "Epoch: 009/010 | Batch 150/468 | Cost: 0.0892\n",
      "Epoch: 009/010 | Batch 200/468 | Cost: 0.0929\n",
      "Epoch: 009/010 | Batch 250/468 | Cost: 0.0908\n",
      "Epoch: 009/010 | Batch 300/468 | Cost: 0.0897\n",
      "Epoch: 009/010 | Batch 350/468 | Cost: 0.0941\n",
      "Epoch: 009/010 | Batch 400/468 | Cost: 0.0900\n",
      "Epoch: 009/010 | Batch 450/468 | Cost: 0.0937\n",
      "Epoch: 010/010 | Batch 000/468 | Cost: 0.0938\n",
      "Epoch: 010/010 | Batch 050/468 | Cost: 0.0918\n",
      "Epoch: 010/010 | Batch 100/468 | Cost: 0.0927\n",
      "Epoch: 010/010 | Batch 150/468 | Cost: 0.0892\n",
      "Epoch: 010/010 | Batch 200/468 | Cost: 0.0895\n",
      "Epoch: 010/010 | Batch 250/468 | Cost: 0.0934\n",
      "Epoch: 010/010 | Batch 300/468 | Cost: 0.0878\n",
      "Epoch: 010/010 | Batch 350/468 | Cost: 0.0908\n",
      "Epoch: 010/010 | Batch 400/468 | Cost: 0.0896\n",
      "Epoch: 010/010 | Batch 450/468 | Cost: 0.0905\n"
     ]
    }
   ],
   "source": [
    "for epoch in range(num_epochs):\n",
    "    for batch_idx, (features, targets) in enumerate(train_loader):\n",
    "        \n",
    "        # don't need labels, only the images (features)\n",
    "        features = features.to(device)\n",
    "\n",
    "        ### FORWARD AND BACK PROP\n",
    "        decoded = model(features)\n",
    "        cost = cost_fn(decoded, features)\n",
    "        optimizer.zero_grad()\n",
    "        \n",
    "        cost.backward()\n",
    "        \n",
    "        ### UPDATE MODEL PARAMETERS\n",
    "        optimizer.step()\n",
    "        \n",
    "        ### LOGGING\n",
    "        if not batch_idx % 50:\n",
    "            print ('Epoch: %03d/%03d | Batch %03d/%03d | Cost: %.4f' \n",
    "                   %(epoch+1, num_epochs, batch_idx, \n",
    "                     len(train_dataset)//batch_size, cost))"
   ]
  },
  {
   "cell_type": "markdown",
   "metadata": {},
   "source": [
    "## Evaluation"
   ]
  },
  {
   "cell_type": "code",
   "execution_count": 6,
   "metadata": {},
   "outputs": [
    {
     "data": {
      "image/png": "[encoded data removed]",
      "text/plain": [
       "<matplotlib.figure.Figure at 0x11b634d30>"
      ]
     },
     "metadata": {},
     "output_type": "display_data"
    }
   ],
   "source": [
    "%matplotlib inline\n",
    "import matplotlib.pyplot as plt\n",
    "\n",
    "##########################\n",
    "### VISUALIZATION\n",
    "##########################\n",
    "\n",
    "n_images = 15\n",
    "image_width = 28\n",
    "\n",
    "fig, axes = plt.subplots(nrows=2, ncols=n_images, \n",
    "                         sharex=True, sharey=True, figsize=(20, 2.5))\n",
    "orig_images = features[:n_images]\n",
    "decoded_images = decoded[:n_images]\n",
    "\n",
    "for i in range(n_images):\n",
    "    for ax, img in zip(axes, [orig_images, decoded_images]):\n",
    "        ax[i].imshow(img[i].detach().reshape((image_width, image_width)), cmap='binary')"
   ]
  }
 ],
 "metadata": {
  "kernelspec": {
   "display_name": "Python 3",
   "language": "python",
   "name": "python3"
  },
  "language_info": {
   "codemirror_mode": {
    "name": "ipython",
    "version": 3
   },
   "file_extension": ".py",
   "mimetype": "text/x-python",
   "name": "python",
   "nbconvert_exporter": "python",
   "pygments_lexer": "ipython3",
   "version": "3.6.4"
  },
  "toc": {
   "nav_menu": {},
   "number_sections": true,
   "sideBar": true,
   "skip_h1_title": false,
   "title_cell": "Table of Contents",
   "title_sidebar": "Contents",
   "toc_cell": false,
   "toc_position": {},
   "toc_section_display": true,
   "toc_window_display": false
  }
 },
 "nbformat": 4,
 "nbformat_minor": 2
}
