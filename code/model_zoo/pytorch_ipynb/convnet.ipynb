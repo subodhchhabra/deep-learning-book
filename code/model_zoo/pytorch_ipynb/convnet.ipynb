{
 "cells": [
  {
   "cell_type": "markdown",
   "metadata": {},
   "source": [
    "*Accompanying code examples of the book \"Introduction to Artificial Neural Networks and Deep Learning: A Practical Guide with Applications in Python\" by [Sebastian Raschka](https://sebastianraschka.com). All code examples are released under the [MIT license](https://github.com/rasbt/deep-learning-book/blob/master/LICENSE). If you find this content useful, please consider supporting the work by buying a [copy of the book](https://leanpub.com/ann-and-deeplearning).*\n",
    "  \n",
    "Other code examples and content are available on [GitHub](https://github.com/rasbt/deep-learning-book). The PDF and ebook versions of the book are available through [Leanpub](https://leanpub.com/ann-and-deeplearning)."
   ]
  },
  {
   "cell_type": "code",
   "execution_count": 1,
   "metadata": {},
   "outputs": [
    {
     "name": "stdout",
     "output_type": "stream",
     "text": [
      "Sebastian Raschka \n",
      "\n",
      "CPython 3.6.4\n",
      "IPython 6.2.1\n",
      "\n",
      "torch 0.4.0\n"
     ]
    }
   ],
   "source": [
    "%load_ext watermark\n",
    "%watermark -a 'Sebastian Raschka' -v -p torch"
   ]
  },
  {
   "cell_type": "markdown",
   "metadata": {},
   "source": [
    "- Runs on CPU or GPU (if available)"
   ]
  },
  {
   "cell_type": "markdown",
   "metadata": {},
   "source": [
    "# Model Zoo -- Convolutional Neural Network"
   ]
  },
  {
   "cell_type": "markdown",
   "metadata": {},
   "source": [
    "## Imports"
   ]
  },
  {
   "cell_type": "code",
   "execution_count": 2,
   "metadata": {},
   "outputs": [],
   "source": [
    "import numpy as np\n",
    "import torch\n",
    "import torch.nn.functional as F\n",
    "from torchvision import datasets\n",
    "from torchvision import transforms\n",
    "from torch.utils.data import DataLoader"
   ]
  },
  {
   "cell_type": "markdown",
   "metadata": {},
   "source": [
    "## Settings and Dataset"
   ]
  },
  {
   "cell_type": "code",
   "execution_count": 3,
   "metadata": {},
   "outputs": [
    {
     "name": "stdout",
     "output_type": "stream",
     "text": [
      "Image batch dimensions: torch.Size([128, 1, 28, 28])\n",
      "Image label dimensions: torch.Size([128])\n"
     ]
    }
   ],
   "source": [
    "##########################\n",
    "### SETTINGS\n",
    "##########################\n",
    "\n",
    "# Device\n",
    "device = torch.device(\"cuda:0\" if torch.cuda.is_available() else \"cpu\")\n",
    "\n",
    "# Hyperparameters\n",
    "random_seed = 1\n",
    "learning_rate = 0.05\n",
    "num_epochs = 10\n",
    "batch_size = 128\n",
    "\n",
    "# Architecture\n",
    "num_classes = 10\n",
    "\n",
    "\n",
    "##########################\n",
    "### MNIST DATASET\n",
    "##########################\n",
    "\n",
    "# Note transforms.ToTensor() scales input images\n",
    "# to 0-1 range\n",
    "train_dataset = datasets.MNIST(root='data', \n",
    "                               train=True, \n",
    "                               transform=transforms.ToTensor(),\n",
    "                               download=True)\n",
    "\n",
    "test_dataset = datasets.MNIST(root='data', \n",
    "                              train=False, \n",
    "                              transform=transforms.ToTensor())\n",
    "\n",
    "\n",
    "train_loader = DataLoader(dataset=train_dataset, \n",
    "                          batch_size=batch_size, \n",
    "                          shuffle=True)\n",
    "\n",
    "test_loader = DataLoader(dataset=test_dataset, \n",
    "                         batch_size=batch_size, \n",
    "                         shuffle=False)\n",
    "\n",
    "# Checking the dataset\n",
    "for images, labels in train_loader:  \n",
    "    print('Image batch dimensions:', images.shape)\n",
    "    print('Image label dimensions:', labels.shape)\n",
    "    break"
   ]
  },
  {
   "cell_type": "markdown",
   "metadata": {},
   "source": [
    "## Model"
   ]
  },
  {
   "cell_type": "code",
   "execution_count": 4,
   "metadata": {},
   "outputs": [],
   "source": [
    "##########################\n",
    "### MODEL\n",
    "##########################\n",
    "\n",
    "\n",
    "class ConvNet(torch.nn.Module):\n",
    "\n",
    "    def __init__(self, num_classes):\n",
    "        super(ConvNet, self).__init__()\n",
    "        \n",
    "        # calculate same padding:\n",
    "        # (w - k + 2*p)/s + 1 = o\n",
    "        # => p = (s(o-1) - w + k)/2\n",
    "        \n",
    "        # 28x28x1 => 28x28x4\n",
    "        self.conv_1 = torch.nn.Conv2d(in_channels=1,\n",
    "                                      out_channels=4,\n",
    "                                      kernel_size=(3, 3),\n",
    "                                      stride=(1, 1),\n",
    "                                      padding=1) # (1(28-1) - 28 + 3) / 2 = 1\n",
    "        # 28x28x4 => 14x14x4\n",
    "        self.pool_1 = torch.nn.MaxPool2d(kernel_size=(2, 2),\n",
    "                                         stride=(2, 2),\n",
    "                                         padding=0) # (2(14-1) - 28 + 2) = 0                                       \n",
    "        # 14x14x4 => 14x14x8\n",
    "        self.conv_2 = torch.nn.Conv2d(in_channels=4,\n",
    "                                      out_channels=8,\n",
    "                                      kernel_size=(3, 3),\n",
    "                                      stride=(1, 1),\n",
    "                                      padding=1) # (1(14-1) - 14 + 3) / 2 = 1                 \n",
    "        # 14x14x8 => 7x7x8                             \n",
    "        self.pool_2 = torch.nn.MaxPool2d(kernel_size=(2, 2),\n",
    "                                         stride=(2, 2),\n",
    "                                         padding=0) # (2(7-1) - 14 + 2) = 0\n",
    "        \n",
    "        self.linear_1 = torch.nn.Linear(7*7*8, num_classes)\n",
    "\n",
    "        \n",
    "    def forward(self, x):\n",
    "        out = self.conv_1(x)\n",
    "        out = F.relu(out)\n",
    "        out = self.pool_1(out)\n",
    "\n",
    "        out = self.conv_2(out)\n",
    "        out = F.relu(out)\n",
    "        out = self.pool_2(out)\n",
    "        \n",
    "        logits = self.linear_1(out.view(-1, 7*7*8))\n",
    "        probas = F.softmax(logits, dim=1)\n",
    "        return logits, probas\n",
    "\n",
    "    \n",
    "torch.manual_seed(random_seed)\n",
    "model = ConvNet(num_classes=num_classes)\n",
    "\n",
    "model = model.to(device)\n",
    "    \n",
    "\n",
    "##########################\n",
    "### COST AND OPTIMIZER\n",
    "##########################\n",
    "\n",
    "cost_fn = torch.nn.CrossEntropyLoss()  \n",
    "optimizer = torch.optim.SGD(model.parameters(), lr=learning_rate)  "
   ]
  },
  {
   "cell_type": "markdown",
   "metadata": {},
   "source": [
    "## Training"
   ]
  },
  {
   "cell_type": "code",
   "execution_count": 5,
   "metadata": {},
   "outputs": [
    {
     "name": "stdout",
     "output_type": "stream",
     "text": [
      "Epoch: 001/010 | Batch 000/468 | Cost: 2.3025\n",
      "Epoch: 001/010 | Batch 050/468 | Cost: 2.2754\n",
      "Epoch: 001/010 | Batch 100/468 | Cost: 1.4605\n",
      "Epoch: 001/010 | Batch 150/468 | Cost: 0.9524\n",
      "Epoch: 001/010 | Batch 200/468 | Cost: 0.4933\n",
      "Epoch: 001/010 | Batch 250/468 | Cost: 0.4640\n",
      "Epoch: 001/010 | Batch 300/468 | Cost: 0.4227\n",
      "Epoch: 001/010 | Batch 350/468 | Cost: 0.2627\n",
      "Epoch: 001/010 | Batch 400/468 | Cost: 0.3095\n",
      "Epoch: 001/010 | Batch 450/468 | Cost: 0.1912\n",
      "Epoch: 001/010 training accuracy: 90.98%\n",
      "Epoch: 002/010 | Batch 000/468 | Cost: 0.3432\n",
      "Epoch: 002/010 | Batch 050/468 | Cost: 0.2529\n",
      "Epoch: 002/010 | Batch 100/468 | Cost: 0.2124\n",
      "Epoch: 002/010 | Batch 150/468 | Cost: 0.2479\n",
      "Epoch: 002/010 | Batch 200/468 | Cost: 0.3453\n",
      "Epoch: 002/010 | Batch 250/468 | Cost: 0.2632\n",
      "Epoch: 002/010 | Batch 300/468 | Cost: 0.1519\n",
      "Epoch: 002/010 | Batch 350/468 | Cost: 0.2020\n",
      "Epoch: 002/010 | Batch 400/468 | Cost: 0.1408\n",
      "Epoch: 002/010 | Batch 450/468 | Cost: 0.1245\n",
      "Epoch: 002/010 training accuracy: 94.81%\n",
      "Epoch: 003/010 | Batch 000/468 | Cost: 0.1394\n",
      "Epoch: 003/010 | Batch 050/468 | Cost: 0.2062\n",
      "Epoch: 003/010 | Batch 100/468 | Cost: 0.0794\n",
      "Epoch: 003/010 | Batch 150/468 | Cost: 0.1160\n",
      "Epoch: 003/010 | Batch 200/468 | Cost: 0.0867\n",
      "Epoch: 003/010 | Batch 250/468 | Cost: 0.1256\n",
      "Epoch: 003/010 | Batch 300/468 | Cost: 0.1314\n",
      "Epoch: 003/010 | Batch 350/468 | Cost: 0.1591\n",
      "Epoch: 003/010 | Batch 400/468 | Cost: 0.1672\n",
      "Epoch: 003/010 | Batch 450/468 | Cost: 0.2189\n",
      "Epoch: 003/010 training accuracy: 95.97%\n",
      "Epoch: 004/010 | Batch 000/468 | Cost: 0.0660\n",
      "Epoch: 004/010 | Batch 050/468 | Cost: 0.0747\n",
      "Epoch: 004/010 | Batch 100/468 | Cost: 0.1644\n",
      "Epoch: 004/010 | Batch 150/468 | Cost: 0.1245\n",
      "Epoch: 004/010 | Batch 200/468 | Cost: 0.1475\n",
      "Epoch: 004/010 | Batch 250/468 | Cost: 0.2008\n",
      "Epoch: 004/010 | Batch 300/468 | Cost: 0.0832\n",
      "Epoch: 004/010 | Batch 350/468 | Cost: 0.1632\n",
      "Epoch: 004/010 | Batch 400/468 | Cost: 0.0909\n",
      "Epoch: 004/010 | Batch 450/468 | Cost: 0.1215\n",
      "Epoch: 004/010 training accuracy: 96.68%\n",
      "Epoch: 005/010 | Batch 000/468 | Cost: 0.1253\n",
      "Epoch: 005/010 | Batch 050/468 | Cost: 0.1485\n",
      "Epoch: 005/010 | Batch 100/468 | Cost: 0.1382\n",
      "Epoch: 005/010 | Batch 150/468 | Cost: 0.1212\n",
      "Epoch: 005/010 | Batch 200/468 | Cost: 0.0789\n",
      "Epoch: 005/010 | Batch 250/468 | Cost: 0.0847\n",
      "Epoch: 005/010 | Batch 300/468 | Cost: 0.0559\n",
      "Epoch: 005/010 | Batch 350/468 | Cost: 0.1435\n",
      "Epoch: 005/010 | Batch 400/468 | Cost: 0.1183\n",
      "Epoch: 005/010 | Batch 450/468 | Cost: 0.0424\n",
      "Epoch: 005/010 training accuracy: 96.78%\n",
      "Epoch: 006/010 | Batch 000/468 | Cost: 0.1614\n",
      "Epoch: 006/010 | Batch 050/468 | Cost: 0.0392\n",
      "Epoch: 006/010 | Batch 100/468 | Cost: 0.1306\n",
      "Epoch: 006/010 | Batch 150/468 | Cost: 0.1384\n",
      "Epoch: 006/010 | Batch 200/468 | Cost: 0.1018\n",
      "Epoch: 006/010 | Batch 250/468 | Cost: 0.0470\n",
      "Epoch: 006/010 | Batch 300/468 | Cost: 0.1090\n",
      "Epoch: 006/010 | Batch 350/468 | Cost: 0.1589\n",
      "Epoch: 006/010 | Batch 400/468 | Cost: 0.0383\n",
      "Epoch: 006/010 | Batch 450/468 | Cost: 0.2024\n",
      "Epoch: 006/010 training accuracy: 97.29%\n",
      "Epoch: 007/010 | Batch 000/468 | Cost: 0.2143\n",
      "Epoch: 007/010 | Batch 050/468 | Cost: 0.0919\n",
      "Epoch: 007/010 | Batch 100/468 | Cost: 0.0907\n",
      "Epoch: 007/010 | Batch 150/468 | Cost: 0.0783\n",
      "Epoch: 007/010 | Batch 200/468 | Cost: 0.0895\n",
      "Epoch: 007/010 | Batch 250/468 | Cost: 0.0438\n",
      "Epoch: 007/010 | Batch 300/468 | Cost: 0.1116\n",
      "Epoch: 007/010 | Batch 350/468 | Cost: 0.0642\n",
      "Epoch: 007/010 | Batch 400/468 | Cost: 0.0659\n",
      "Epoch: 007/010 | Batch 450/468 | Cost: 0.0487\n",
      "Epoch: 007/010 training accuracy: 97.40%\n",
      "Epoch: 008/010 | Batch 000/468 | Cost: 0.1495\n",
      "Epoch: 008/010 | Batch 050/468 | Cost: 0.1093\n",
      "Epoch: 008/010 | Batch 100/468 | Cost: 0.0323\n",
      "Epoch: 008/010 | Batch 150/468 | Cost: 0.0509\n",
      "Epoch: 008/010 | Batch 200/468 | Cost: 0.0595\n",
      "Epoch: 008/010 | Batch 250/468 | Cost: 0.0440\n",
      "Epoch: 008/010 | Batch 300/468 | Cost: 0.1840\n",
      "Epoch: 008/010 | Batch 350/468 | Cost: 0.0437\n",
      "Epoch: 008/010 | Batch 400/468 | Cost: 0.0173\n",
      "Epoch: 008/010 | Batch 450/468 | Cost: 0.0902\n",
      "Epoch: 008/010 training accuracy: 97.57%\n",
      "Epoch: 009/010 | Batch 000/468 | Cost: 0.0633\n",
      "Epoch: 009/010 | Batch 050/468 | Cost: 0.0353\n",
      "Epoch: 009/010 | Batch 100/468 | Cost: 0.0699\n",
      "Epoch: 009/010 | Batch 150/468 | Cost: 0.0954\n",
      "Epoch: 009/010 | Batch 200/468 | Cost: 0.0210\n",
      "Epoch: 009/010 | Batch 250/468 | Cost: 0.0411\n",
      "Epoch: 009/010 | Batch 300/468 | Cost: 0.0689\n",
      "Epoch: 009/010 | Batch 350/468 | Cost: 0.0473\n",
      "Epoch: 009/010 | Batch 400/468 | Cost: 0.1125\n",
      "Epoch: 009/010 | Batch 450/468 | Cost: 0.0684\n",
      "Epoch: 009/010 training accuracy: 97.81%\n",
      "Epoch: 010/010 | Batch 000/468 | Cost: 0.0772\n",
      "Epoch: 010/010 | Batch 050/468 | Cost: 0.0397\n",
      "Epoch: 010/010 | Batch 100/468 | Cost: 0.0482\n",
      "Epoch: 010/010 | Batch 150/468 | Cost: 0.0434\n",
      "Epoch: 010/010 | Batch 200/468 | Cost: 0.0930\n",
      "Epoch: 010/010 | Batch 250/468 | Cost: 0.1223\n",
      "Epoch: 010/010 | Batch 300/468 | Cost: 0.0825\n",
      "Epoch: 010/010 | Batch 350/468 | Cost: 0.0211\n",
      "Epoch: 010/010 | Batch 400/468 | Cost: 0.1141\n",
      "Epoch: 010/010 | Batch 450/468 | Cost: 0.1286\n",
      "Epoch: 010/010 training accuracy: 97.62%\n"
     ]
    }
   ],
   "source": [
    "def compute_accuracy(model, data_loader):\n",
    "    correct_pred, num_examples = 0, 0\n",
    "    for features, targets in data_loader:\n",
    "        features = features.to(device)\n",
    "        targets = targets.to(device)\n",
    "        logits, probas = model(features)\n",
    "        _, predicted_labels = torch.max(probas, 1)\n",
    "        num_examples += targets.size(0)\n",
    "        correct_pred += (predicted_labels == targets).sum()\n",
    "    return correct_pred.float()/num_examples * 100\n",
    "    \n",
    "\n",
    "for epoch in range(num_epochs):\n",
    "    model = model.train()\n",
    "    for batch_idx, (features, targets) in enumerate(train_loader):\n",
    "        \n",
    "        features = features.to(device)\n",
    "        targets = targets.to(device)\n",
    "\n",
    "        ### FORWARD AND BACK PROP\n",
    "        logits, probas = model(features)\n",
    "        cost = cost_fn(logits, targets)\n",
    "        optimizer.zero_grad()\n",
    "        \n",
    "        cost.backward()\n",
    "        \n",
    "        ### UPDATE MODEL PARAMETERS\n",
    "        optimizer.step()\n",
    "        \n",
    "        ### LOGGING\n",
    "        if not batch_idx % 50:\n",
    "            print ('Epoch: %03d/%03d | Batch %03d/%03d | Cost: %.4f' \n",
    "                   %(epoch+1, num_epochs, batch_idx, \n",
    "                     len(train_dataset)//batch_size, cost))\n",
    "    \n",
    "    model = model.eval()\n",
    "    print('Epoch: %03d/%03d training accuracy: %.2f%%' % (\n",
    "          epoch+1, num_epochs, \n",
    "          compute_accuracy(model, train_loader)))"
   ]
  },
  {
   "cell_type": "markdown",
   "metadata": {},
   "source": [
    "## Evaluation"
   ]
  },
  {
   "cell_type": "code",
   "execution_count": 6,
   "metadata": {},
   "outputs": [
    {
     "name": "stdout",
     "output_type": "stream",
     "text": [
      "Test accuracy: 97.69%\n"
     ]
    }
   ],
   "source": [
    "print('Test accuracy: %.2f%%' % (compute_accuracy(model, test_loader)))"
   ]
  }
 ],
 "metadata": {
  "kernelspec": {
   "display_name": "Python 3",
   "language": "python",
   "name": "python3"
  },
  "language_info": {
   "codemirror_mode": {
    "name": "ipython",
    "version": 3
   },
   "file_extension": ".py",
   "mimetype": "text/x-python",
   "name": "python",
   "nbconvert_exporter": "python",
   "pygments_lexer": "ipython3",
   "version": "3.6.4"
  },
  "toc": {
   "nav_menu": {},
   "number_sections": true,
   "sideBar": true,
   "skip_h1_title": false,
   "title_cell": "Table of Contents",
   "title_sidebar": "Contents",
   "toc_cell": false,
   "toc_position": {},
   "toc_section_display": true,
   "toc_window_display": false
  }
 },
 "nbformat": 4,
 "nbformat_minor": 2
}
