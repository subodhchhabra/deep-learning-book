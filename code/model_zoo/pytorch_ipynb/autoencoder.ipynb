{
 "cells": [
  {
   "cell_type": "markdown",
   "metadata": {},
   "source": [
    "*Accompanying code examples of the book \"Introduction to Artificial Neural Networks and Deep Learning: A Practical Guide with Applications in Python\" by [Sebastian Raschka](https://sebastianraschka.com). All code examples are released under the [MIT license](https://github.com/rasbt/deep-learning-book/blob/master/LICENSE). If you find this content useful, please consider supporting the work by buying a [copy of the book](https://leanpub.com/ann-and-deeplearning).*\n",
    "  \n",
    "Other code examples and content are available on [GitHub](https://github.com/rasbt/deep-learning-book). The PDF and ebook versions of the book are available through [Leanpub](https://leanpub.com/ann-and-deeplearning)."
   ]
  },
  {
   "cell_type": "code",
   "execution_count": 1,
   "metadata": {},
   "outputs": [
    {
     "name": "stdout",
     "output_type": "stream",
     "text": [
      "Sebastian Raschka \n",
      "\n",
      "CPython 3.6.4\n",
      "IPython 6.2.1\n",
      "\n",
      "torch 0.4.0\n"
     ]
    }
   ],
   "source": [
    "%load_ext watermark\n",
    "%watermark -a 'Sebastian Raschka' -v -p torch"
   ]
  },
  {
   "cell_type": "markdown",
   "metadata": {},
   "source": [
    "- Runs on CPU or GPU (if available)"
   ]
  },
  {
   "cell_type": "markdown",
   "metadata": {},
   "source": [
    "# Model Zoo -- Autoencoder"
   ]
  },
  {
   "cell_type": "markdown",
   "metadata": {},
   "source": [
    "A simple, single-layer autoencoder that compresses 768-pixel MNIST images into 32-pixel vectors (32-times smaller representations)."
   ]
  },
  {
   "cell_type": "markdown",
   "metadata": {},
   "source": [
    "## Imports"
   ]
  },
  {
   "cell_type": "code",
   "execution_count": 2,
   "metadata": {},
   "outputs": [
    {
     "name": "stdout",
     "output_type": "stream",
     "text": [
      "Device: cpu\n",
      "Image batch dimensions: torch.Size([128, 1, 28, 28])\n",
      "Image label dimensions: torch.Size([128])\n"
     ]
    }
   ],
   "source": [
    "import numpy as np\n",
    "import torch\n",
    "import torch.nn.functional as F\n",
    "from torchvision import datasets\n",
    "from torchvision import transforms\n",
    "from torch.utils.data import DataLoader\n",
    "\n",
    "\n",
    "##########################\n",
    "### SETTINGS\n",
    "##########################\n",
    "\n",
    "# Device\n",
    "device = torch.device(\"cuda:0\" if torch.cuda.is_available() else \"cpu\")\n",
    "print('Device:', device)\n",
    "\n",
    "# Hyperparameters\n",
    "random_seed = 123\n",
    "learning_rate = 0.005\n",
    "num_epochs = 5\n",
    "batch_size = 128\n",
    "\n",
    "# Architecture\n",
    "num_features = 784\n",
    "num_hidden_1 = 32\n",
    "\n",
    "\n",
    "##########################\n",
    "### MNIST DATASET\n",
    "##########################\n",
    "\n",
    "# Note transforms.ToTensor() scales input images\n",
    "# to 0-1 range\n",
    "train_dataset = datasets.MNIST(root='data', \n",
    "                               train=True, \n",
    "                               transform=transforms.ToTensor(),\n",
    "                               download=True)\n",
    "\n",
    "test_dataset = datasets.MNIST(root='data', \n",
    "                              train=False, \n",
    "                              transform=transforms.ToTensor())\n",
    "\n",
    "\n",
    "train_loader = DataLoader(dataset=train_dataset, \n",
    "                          batch_size=batch_size, \n",
    "                          shuffle=True)\n",
    "\n",
    "test_loader = DataLoader(dataset=test_dataset, \n",
    "                         batch_size=batch_size, \n",
    "                         shuffle=False)\n",
    "\n",
    "# Checking the dataset\n",
    "for images, labels in train_loader:  \n",
    "    print('Image batch dimensions:', images.shape)\n",
    "    print('Image label dimensions:', labels.shape)\n",
    "    break"
   ]
  },
  {
   "cell_type": "markdown",
   "metadata": {},
   "source": [
    "## Model"
   ]
  },
  {
   "cell_type": "code",
   "execution_count": 3,
   "metadata": {},
   "outputs": [],
   "source": [
    "##########################\n",
    "### MODEL\n",
    "##########################\n",
    "\n",
    "class Autoencoder(torch.nn.Module):\n",
    "\n",
    "    def __init__(self, num_features):\n",
    "        super(Autoencoder, self).__init__()\n",
    "        \n",
    "        ### ENCODER\n",
    "        self.linear_1 = torch.nn.Linear(num_features, num_hidden_1)\n",
    "        # The following to lones are not necessary, \n",
    "        # but used here to demonstrate how to access the weights\n",
    "        # and use a different weight initialization.\n",
    "        # By default, PyTorch uses Xavier/Glorot initialization, which\n",
    "        # should usually be preferred.\n",
    "        self.linear_1.weight.detach().normal_(0.0, 0.1)\n",
    "        self.linear_1.bias.detach().zero_()\n",
    "        \n",
    "        ### DECODER\n",
    "        self.linear_2 = torch.nn.Linear(num_hidden_1, num_features)\n",
    "        self.linear_1.weight.detach().normal_(0.0, 0.1)\n",
    "        self.linear_1.bias.detach().zero_()\n",
    "        \n",
    "\n",
    "    def forward(self, x):\n",
    "        \n",
    "        ### ENCODER\n",
    "        encoded = self.linear_1(x)\n",
    "        encoded = F.leaky_relu(encoded)\n",
    "        \n",
    "        ### DECODER\n",
    "        logits = self.linear_2(encoded)\n",
    "        decoded = F.sigmoid(logits)\n",
    "        \n",
    "        return decoded\n",
    "\n",
    "    \n",
    "torch.manual_seed(random_seed)\n",
    "model = Autoencoder(num_features=num_features)\n",
    "model = model.to(device)\n",
    "    \n",
    "\n",
    "##########################\n",
    "### COST AND OPTIMIZER\n",
    "##########################\n",
    "\n",
    "cost_fn = torch.nn.BCELoss() #torch.nn.MSELoss() \n",
    "optimizer = torch.optim.Adam(model.parameters(), lr=learning_rate)  "
   ]
  },
  {
   "cell_type": "code",
   "execution_count": 4,
   "metadata": {},
   "outputs": [],
   "source": [
    "## Training"
   ]
  },
  {
   "cell_type": "code",
   "execution_count": 5,
   "metadata": {},
   "outputs": [
    {
     "name": "stdout",
     "output_type": "stream",
     "text": [
      "Epoch: 001/005 | Batch 000/468 | Cost: 0.7092\n",
      "Epoch: 001/005 | Batch 050/468 | Cost: 0.2117\n",
      "Epoch: 001/005 | Batch 100/468 | Cost: 0.1624\n",
      "Epoch: 001/005 | Batch 150/468 | Cost: 0.1461\n",
      "Epoch: 001/005 | Batch 200/468 | Cost: 0.1329\n",
      "Epoch: 001/005 | Batch 250/468 | Cost: 0.1184\n",
      "Epoch: 001/005 | Batch 300/468 | Cost: 0.1150\n",
      "Epoch: 001/005 | Batch 350/468 | Cost: 0.1118\n",
      "Epoch: 001/005 | Batch 400/468 | Cost: 0.1122\n",
      "Epoch: 001/005 | Batch 450/468 | Cost: 0.1092\n",
      "Epoch: 002/005 | Batch 000/468 | Cost: 0.1027\n",
      "Epoch: 002/005 | Batch 050/468 | Cost: 0.0996\n",
      "Epoch: 002/005 | Batch 100/468 | Cost: 0.0941\n",
      "Epoch: 002/005 | Batch 150/468 | Cost: 0.0962\n",
      "Epoch: 002/005 | Batch 200/468 | Cost: 0.0964\n",
      "Epoch: 002/005 | Batch 250/468 | Cost: 0.0997\n",
      "Epoch: 002/005 | Batch 300/468 | Cost: 0.1029\n",
      "Epoch: 002/005 | Batch 350/468 | Cost: 0.0976\n",
      "Epoch: 002/005 | Batch 400/468 | Cost: 0.0969\n",
      "Epoch: 002/005 | Batch 450/468 | Cost: 0.1003\n",
      "Epoch: 003/005 | Batch 000/468 | Cost: 0.0977\n",
      "Epoch: 003/005 | Batch 050/468 | Cost: 0.0968\n",
      "Epoch: 003/005 | Batch 100/468 | Cost: 0.0926\n",
      "Epoch: 003/005 | Batch 150/468 | Cost: 0.0960\n",
      "Epoch: 003/005 | Batch 200/468 | Cost: 0.0978\n",
      "Epoch: 003/005 | Batch 250/468 | Cost: 0.0936\n",
      "Epoch: 003/005 | Batch 300/468 | Cost: 0.0954\n",
      "Epoch: 003/005 | Batch 350/468 | Cost: 0.1003\n",
      "Epoch: 003/005 | Batch 400/468 | Cost: 0.0919\n",
      "Epoch: 003/005 | Batch 450/468 | Cost: 0.0994\n",
      "Epoch: 004/005 | Batch 000/468 | Cost: 0.0988\n",
      "Epoch: 004/005 | Batch 050/468 | Cost: 0.0950\n",
      "Epoch: 004/005 | Batch 100/468 | Cost: 0.0936\n",
      "Epoch: 004/005 | Batch 150/468 | Cost: 0.0947\n",
      "Epoch: 004/005 | Batch 200/468 | Cost: 0.0964\n",
      "Epoch: 004/005 | Batch 250/468 | Cost: 0.0943\n",
      "Epoch: 004/005 | Batch 300/468 | Cost: 0.0964\n",
      "Epoch: 004/005 | Batch 350/468 | Cost: 0.0956\n",
      "Epoch: 004/005 | Batch 400/468 | Cost: 0.0918\n",
      "Epoch: 004/005 | Batch 450/468 | Cost: 0.0939\n",
      "Epoch: 005/005 | Batch 000/468 | Cost: 0.0925\n",
      "Epoch: 005/005 | Batch 050/468 | Cost: 0.0912\n",
      "Epoch: 005/005 | Batch 100/468 | Cost: 0.0955\n",
      "Epoch: 005/005 | Batch 150/468 | Cost: 0.0945\n",
      "Epoch: 005/005 | Batch 200/468 | Cost: 0.0969\n",
      "Epoch: 005/005 | Batch 250/468 | Cost: 0.0998\n",
      "Epoch: 005/005 | Batch 300/468 | Cost: 0.0931\n",
      "Epoch: 005/005 | Batch 350/468 | Cost: 0.0907\n",
      "Epoch: 005/005 | Batch 400/468 | Cost: 0.0962\n",
      "Epoch: 005/005 | Batch 450/468 | Cost: 0.0929\n"
     ]
    }
   ],
   "source": [
    "for epoch in range(num_epochs):\n",
    "    for batch_idx, (features, targets) in enumerate(train_loader):\n",
    "        \n",
    "        # don't need labels, only the images (features)\n",
    "        features = features.view(-1, 28*28).to(device)\n",
    "            \n",
    "        ### FORWARD AND BACK PROP\n",
    "        decoded = model(features)\n",
    "        cost = cost_fn(decoded, features)\n",
    "        optimizer.zero_grad()\n",
    "        \n",
    "        cost.backward()\n",
    "        \n",
    "        ### UPDATE MODEL PARAMETERS\n",
    "        optimizer.step()\n",
    "        \n",
    "        ### LOGGING\n",
    "        if not batch_idx % 50:\n",
    "            print ('Epoch: %03d/%03d | Batch %03d/%03d | Cost: %.4f' \n",
    "                   %(epoch+1, num_epochs, batch_idx, \n",
    "                     len(train_dataset)//batch_size, cost))"
   ]
  },
  {
   "cell_type": "markdown",
   "metadata": {},
   "source": [
    "## Evaluation"
   ]
  },
  {
   "cell_type": "code",
   "execution_count": 6,
   "metadata": {},
   "outputs": [
    {
     "data": {
      "image/png": "[encoded data removed]",
      "text/plain": [
       "<matplotlib.figure.Figure at 0x10e287b70>"
      ]
     },
     "metadata": {},
     "output_type": "display_data"
    }
   ],
   "source": [
    "%matplotlib inline\n",
    "import matplotlib.pyplot as plt\n",
    "\n",
    "##########################\n",
    "### VISUALIZATION\n",
    "##########################\n",
    "\n",
    "n_images = 15\n",
    "image_width = 28\n",
    "\n",
    "fig, axes = plt.subplots(nrows=2, ncols=n_images, \n",
    "                         sharex=True, sharey=True, figsize=(20, 2.5))\n",
    "orig_images = features[:n_images]\n",
    "decoded_images = decoded[:n_images]\n",
    "\n",
    "for i in range(n_images):\n",
    "    for ax, img in zip(axes, [orig_images, decoded_images]):\n",
    "        ax[i].imshow(img[i].detach().reshape((image_width, image_width)), cmap='binary')"
   ]
  }
 ],
 "metadata": {
  "kernelspec": {
   "display_name": "Python 3",
   "language": "python",
   "name": "python3"
  },
  "language_info": {
   "codemirror_mode": {
    "name": "ipython",
    "version": 3
   },
   "file_extension": ".py",
   "mimetype": "text/x-python",
   "name": "python",
   "nbconvert_exporter": "python",
   "pygments_lexer": "ipython3",
   "version": "3.6.4"
  },
  "toc": {
   "nav_menu": {},
   "number_sections": true,
   "sideBar": true,
   "skip_h1_title": false,
   "title_cell": "Table of Contents",
   "title_sidebar": "Contents",
   "toc_cell": false,
   "toc_position": {},
   "toc_section_display": true,
   "toc_window_display": true
  }
 },
 "nbformat": 4,
 "nbformat_minor": 2
}
